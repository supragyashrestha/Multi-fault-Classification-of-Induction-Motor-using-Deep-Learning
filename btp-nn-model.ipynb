{
 "cells": [
  {
   "cell_type": "code",
   "execution_count": 1,
   "metadata": {
    "_cell_guid": "b1076dfc-b9ad-4769-8c92-a6c4dae69d19",
    "_uuid": "8f2839f25d086af736a60e9eeb907d3b93b6e0e5",
    "execution": {
     "iopub.execute_input": "2021-04-19T11:52:18.547740Z",
     "iopub.status.busy": "2021-04-19T11:52:18.547137Z",
     "iopub.status.idle": "2021-04-19T11:52:18.550961Z",
     "shell.execute_reply": "2021-04-19T11:52:18.551433Z"
    },
    "papermill": {
     "duration": 0.027532,
     "end_time": "2021-04-19T11:52:18.551699",
     "exception": false,
     "start_time": "2021-04-19T11:52:18.524167",
     "status": "completed"
    },
    "tags": []
   },
   "outputs": [],
   "source": [
    "import numpy as np\n",
    "import pandas as pd\n",
    "import random,copy\n",
    "import os"
   ]
  },
  {
   "cell_type": "code",
   "execution_count": 2,
   "metadata": {
    "execution": {
     "iopub.execute_input": "2021-04-19T11:52:18.593463Z",
     "iopub.status.busy": "2021-04-19T11:52:18.592899Z",
     "iopub.status.idle": "2021-04-19T11:52:24.885706Z",
     "shell.execute_reply": "2021-04-19T11:52:24.884692Z"
    },
    "papermill": {
     "duration": 6.314574,
     "end_time": "2021-04-19T11:52:24.885861",
     "exception": false,
     "start_time": "2021-04-19T11:52:18.571287",
     "status": "completed"
    },
    "tags": []
   },
   "outputs": [],
   "source": [
    "import pandas as pd\n",
    "from sklearn.utils import shuffle\n",
    "import keras\n",
    "import tensorflow as tf\n",
    "from sklearn import preprocessing"
   ]
  },
  {
   "cell_type": "code",
   "execution_count": 3,
   "metadata": {
    "execution": {
     "iopub.execute_input": "2021-04-19T11:52:24.930939Z",
     "iopub.status.busy": "2021-04-19T11:52:24.930298Z",
     "iopub.status.idle": "2021-04-19T11:52:34.965472Z",
     "shell.execute_reply": "2021-04-19T11:52:34.964909Z"
    },
    "papermill": {
     "duration": 10.059469,
     "end_time": "2021-04-19T11:52:34.965625",
     "exception": false,
     "start_time": "2021-04-19T11:52:24.906156",
     "status": "completed"
    },
    "tags": []
   },
   "outputs": [],
   "source": [
    "df = pd.read_csv(\"../input/induction-motor-multi-csv-files/combined_data_new.csv\")"
   ]
  },
  {
   "cell_type": "code",
   "execution_count": 4,
   "metadata": {
    "execution": {
     "iopub.execute_input": "2021-04-19T11:52:35.020820Z",
     "iopub.status.busy": "2021-04-19T11:52:35.020150Z",
     "iopub.status.idle": "2021-04-19T11:52:35.065192Z",
     "shell.execute_reply": "2021-04-19T11:52:35.064519Z"
    },
    "papermill": {
     "duration": 0.079393,
     "end_time": "2021-04-19T11:52:35.065351",
     "exception": false,
     "start_time": "2021-04-19T11:52:34.985958",
     "status": "completed"
    },
    "tags": []
   },
   "outputs": [
    {
     "data": {
      "text/plain": [
       "array([ 9.,  1.,  5.,  2.,  3.,  4.,  0., 10.,  6.])"
      ]
     },
     "execution_count": 4,
     "metadata": {},
     "output_type": "execute_result"
    }
   ],
   "source": [
    "df[\"Label\"].unique()"
   ]
  },
  {
   "cell_type": "code",
   "execution_count": 5,
   "metadata": {
    "execution": {
     "iopub.execute_input": "2021-04-19T11:52:35.111824Z",
     "iopub.status.busy": "2021-04-19T11:52:35.110925Z",
     "iopub.status.idle": "2021-04-19T11:52:35.144295Z",
     "shell.execute_reply": "2021-04-19T11:52:35.143794Z"
    },
    "papermill": {
     "duration": 0.058339,
     "end_time": "2021-04-19T11:52:35.144434",
     "exception": false,
     "start_time": "2021-04-19T11:52:35.086095",
     "status": "completed"
    },
    "tags": []
   },
   "outputs": [
    {
     "data": {
      "text/html": [
       "<div>\n",
       "<style scoped>\n",
       "    .dataframe tbody tr th:only-of-type {\n",
       "        vertical-align: middle;\n",
       "    }\n",
       "\n",
       "    .dataframe tbody tr th {\n",
       "        vertical-align: top;\n",
       "    }\n",
       "\n",
       "    .dataframe thead th {\n",
       "        text-align: right;\n",
       "    }\n",
       "</style>\n",
       "<table border=\"1\" class=\"dataframe\">\n",
       "  <thead>\n",
       "    <tr style=\"text-align: right;\">\n",
       "      <th></th>\n",
       "      <th>X_Value</th>\n",
       "      <th>Acceleration</th>\n",
       "      <th>Acceleration_0</th>\n",
       "      <th>Acceleration_1</th>\n",
       "      <th>Voltage</th>\n",
       "      <th>Voltage_0</th>\n",
       "      <th>Voltage_1</th>\n",
       "      <th>Voltage_2</th>\n",
       "      <th>Voltage_3</th>\n",
       "      <th>Label</th>\n",
       "      <th>Speed</th>\n",
       "    </tr>\n",
       "  </thead>\n",
       "  <tbody>\n",
       "    <tr>\n",
       "      <th>0</th>\n",
       "      <td>0.00000</td>\n",
       "      <td>-5.351819</td>\n",
       "      <td>0.740582</td>\n",
       "      <td>8.295304</td>\n",
       "      <td>-0.073965</td>\n",
       "      <td>-0.435938</td>\n",
       "      <td>0.510923</td>\n",
       "      <td>0.000558</td>\n",
       "      <td>0.187400</td>\n",
       "      <td>9.0</td>\n",
       "      <td>35.0</td>\n",
       "    </tr>\n",
       "    <tr>\n",
       "      <th>1</th>\n",
       "      <td>0.00005</td>\n",
       "      <td>-4.234766</td>\n",
       "      <td>1.739646</td>\n",
       "      <td>9.915628</td>\n",
       "      <td>-0.078768</td>\n",
       "      <td>-0.442555</td>\n",
       "      <td>0.518180</td>\n",
       "      <td>0.000568</td>\n",
       "      <td>-0.171936</td>\n",
       "      <td>9.0</td>\n",
       "      <td>35.0</td>\n",
       "    </tr>\n",
       "    <tr>\n",
       "      <th>2</th>\n",
       "      <td>0.00010</td>\n",
       "      <td>-4.241035</td>\n",
       "      <td>-0.400662</td>\n",
       "      <td>4.644429</td>\n",
       "      <td>-0.077888</td>\n",
       "      <td>-0.434361</td>\n",
       "      <td>0.513546</td>\n",
       "      <td>0.000554</td>\n",
       "      <td>-0.182503</td>\n",
       "      <td>9.0</td>\n",
       "      <td>35.0</td>\n",
       "    </tr>\n",
       "    <tr>\n",
       "      <th>3</th>\n",
       "      <td>0.00015</td>\n",
       "      <td>-2.607558</td>\n",
       "      <td>-0.598338</td>\n",
       "      <td>1.464432</td>\n",
       "      <td>-0.084278</td>\n",
       "      <td>-0.440163</td>\n",
       "      <td>0.521092</td>\n",
       "      <td>0.000592</td>\n",
       "      <td>-0.020186</td>\n",
       "      <td>9.0</td>\n",
       "      <td>35.0</td>\n",
       "    </tr>\n",
       "    <tr>\n",
       "      <th>4</th>\n",
       "      <td>0.00020</td>\n",
       "      <td>-3.243099</td>\n",
       "      <td>-1.413354</td>\n",
       "      <td>-1.211480</td>\n",
       "      <td>-0.082729</td>\n",
       "      <td>-0.432257</td>\n",
       "      <td>0.516258</td>\n",
       "      <td>0.000537</td>\n",
       "      <td>-0.022895</td>\n",
       "      <td>9.0</td>\n",
       "      <td>35.0</td>\n",
       "    </tr>\n",
       "    <tr>\n",
       "      <th>...</th>\n",
       "      <td>...</td>\n",
       "      <td>...</td>\n",
       "      <td>...</td>\n",
       "      <td>...</td>\n",
       "      <td>...</td>\n",
       "      <td>...</td>\n",
       "      <td>...</td>\n",
       "      <td>...</td>\n",
       "      <td>...</td>\n",
       "      <td>...</td>\n",
       "      <td>...</td>\n",
       "    </tr>\n",
       "    <tr>\n",
       "      <th>3719295</th>\n",
       "      <td>29.90475</td>\n",
       "      <td>-0.172585</td>\n",
       "      <td>-1.122119</td>\n",
       "      <td>-2.568856</td>\n",
       "      <td>0.129924</td>\n",
       "      <td>-0.215732</td>\n",
       "      <td>0.082520</td>\n",
       "      <td>-0.000397</td>\n",
       "      <td>-0.193148</td>\n",
       "      <td>5.0</td>\n",
       "      <td>25.0</td>\n",
       "    </tr>\n",
       "    <tr>\n",
       "      <th>3719296</th>\n",
       "      <td>29.90480</td>\n",
       "      <td>0.501556</td>\n",
       "      <td>-1.841121</td>\n",
       "      <td>-3.171822</td>\n",
       "      <td>0.130463</td>\n",
       "      <td>-0.218068</td>\n",
       "      <td>0.089042</td>\n",
       "      <td>-0.000500</td>\n",
       "      <td>-0.027359</td>\n",
       "      <td>5.0</td>\n",
       "      <td>25.0</td>\n",
       "    </tr>\n",
       "    <tr>\n",
       "      <th>3719297</th>\n",
       "      <td>29.90485</td>\n",
       "      <td>1.899502</td>\n",
       "      <td>-0.382981</td>\n",
       "      <td>-1.162346</td>\n",
       "      <td>0.129154</td>\n",
       "      <td>-0.216884</td>\n",
       "      <td>0.086343</td>\n",
       "      <td>-0.000420</td>\n",
       "      <td>-0.030208</td>\n",
       "      <td>5.0</td>\n",
       "      <td>25.0</td>\n",
       "    </tr>\n",
       "    <tr>\n",
       "      <th>3719298</th>\n",
       "      <td>29.90490</td>\n",
       "      <td>0.161535</td>\n",
       "      <td>-1.047591</td>\n",
       "      <td>-0.886533</td>\n",
       "      <td>0.128612</td>\n",
       "      <td>-0.217536</td>\n",
       "      <td>0.091821</td>\n",
       "      <td>-0.000439</td>\n",
       "      <td>-0.009865</td>\n",
       "      <td>5.0</td>\n",
       "      <td>25.0</td>\n",
       "    </tr>\n",
       "    <tr>\n",
       "      <th>3719299</th>\n",
       "      <td>29.90495</td>\n",
       "      <td>1.798824</td>\n",
       "      <td>1.032677</td>\n",
       "      <td>0.530148</td>\n",
       "      <td>0.125695</td>\n",
       "      <td>-0.218831</td>\n",
       "      <td>0.090628</td>\n",
       "      <td>-0.000416</td>\n",
       "      <td>0.226535</td>\n",
       "      <td>5.0</td>\n",
       "      <td>25.0</td>\n",
       "    </tr>\n",
       "  </tbody>\n",
       "</table>\n",
       "<p>3719300 rows × 11 columns</p>\n",
       "</div>"
      ],
      "text/plain": [
       "          X_Value  Acceleration  Acceleration_0  Acceleration_1   Voltage  \\\n",
       "0         0.00000     -5.351819        0.740582        8.295304 -0.073965   \n",
       "1         0.00005     -4.234766        1.739646        9.915628 -0.078768   \n",
       "2         0.00010     -4.241035       -0.400662        4.644429 -0.077888   \n",
       "3         0.00015     -2.607558       -0.598338        1.464432 -0.084278   \n",
       "4         0.00020     -3.243099       -1.413354       -1.211480 -0.082729   \n",
       "...           ...           ...             ...             ...       ...   \n",
       "3719295  29.90475     -0.172585       -1.122119       -2.568856  0.129924   \n",
       "3719296  29.90480      0.501556       -1.841121       -3.171822  0.130463   \n",
       "3719297  29.90485      1.899502       -0.382981       -1.162346  0.129154   \n",
       "3719298  29.90490      0.161535       -1.047591       -0.886533  0.128612   \n",
       "3719299  29.90495      1.798824        1.032677        0.530148  0.125695   \n",
       "\n",
       "         Voltage_0  Voltage_1  Voltage_2  Voltage_3  Label  Speed  \n",
       "0        -0.435938   0.510923   0.000558   0.187400    9.0   35.0  \n",
       "1        -0.442555   0.518180   0.000568  -0.171936    9.0   35.0  \n",
       "2        -0.434361   0.513546   0.000554  -0.182503    9.0   35.0  \n",
       "3        -0.440163   0.521092   0.000592  -0.020186    9.0   35.0  \n",
       "4        -0.432257   0.516258   0.000537  -0.022895    9.0   35.0  \n",
       "...            ...        ...        ...        ...    ...    ...  \n",
       "3719295  -0.215732   0.082520  -0.000397  -0.193148    5.0   25.0  \n",
       "3719296  -0.218068   0.089042  -0.000500  -0.027359    5.0   25.0  \n",
       "3719297  -0.216884   0.086343  -0.000420  -0.030208    5.0   25.0  \n",
       "3719298  -0.217536   0.091821  -0.000439  -0.009865    5.0   25.0  \n",
       "3719299  -0.218831   0.090628  -0.000416   0.226535    5.0   25.0  \n",
       "\n",
       "[3719300 rows x 11 columns]"
      ]
     },
     "execution_count": 5,
     "metadata": {},
     "output_type": "execute_result"
    }
   ],
   "source": [
    "rows = len(df)\n",
    "cols = len(df.iloc[0])\n",
    "col_names = ['X_Value', 'Acceleration', 'Acceleration_0', 'Acceleration_1', 'Voltage', 'Voltage_0', 'Voltage_1',\n",
    "             'Voltage_2', 'Voltage_3', 'Label', 'Speed']\n",
    "df"
   ]
  },
  {
   "cell_type": "code",
   "execution_count": 6,
   "metadata": {
    "execution": {
     "iopub.execute_input": "2021-04-19T11:52:35.220878Z",
     "iopub.status.busy": "2021-04-19T11:52:35.215810Z",
     "iopub.status.idle": "2021-04-19T11:57:50.414184Z",
     "shell.execute_reply": "2021-04-19T11:57:50.414682Z"
    },
    "papermill": {
     "duration": 315.249396,
     "end_time": "2021-04-19T11:57:50.414845",
     "exception": false,
     "start_time": "2021-04-19T11:52:35.165449",
     "status": "completed"
    },
    "tags": []
   },
   "outputs": [
    {
     "name": "stdout",
     "output_type": "stream",
     "text": [
      "[ 0.  1.  2.  3.  4.  5.  6.  9. 10.]\n",
      "3719300 3719300\n"
     ]
    }
   ],
   "source": [
    "Label_col=[]\n",
    "for i in range(len(df)):\n",
    "    Label_col.append(df.iloc[i]['Label'])\n",
    "    \n",
    "print(np.unique(Label_col))\n",
    "print(len(Label_col),len(df))"
   ]
  },
  {
   "cell_type": "code",
   "execution_count": 7,
   "metadata": {
    "execution": {
     "iopub.execute_input": "2021-04-19T11:57:50.475212Z",
     "iopub.status.busy": "2021-04-19T11:57:50.464777Z",
     "iopub.status.idle": "2021-04-19T11:57:54.063804Z",
     "shell.execute_reply": "2021-04-19T11:57:54.063252Z"
    },
    "papermill": {
     "duration": 3.627849,
     "end_time": "2021-04-19T11:57:54.063942",
     "exception": false,
     "start_time": "2021-04-19T11:57:50.436093",
     "status": "completed"
    },
    "tags": []
   },
   "outputs": [
    {
     "name": "stdout",
     "output_type": "stream",
     "text": [
      "[0. 1. 2. 3. 4. 5. 6. 7. 8.]\n",
      "3719300 3719300\n"
     ]
    }
   ],
   "source": [
    "for i in range(len(Label_col)):\n",
    "    if Label_col[i]>6:\n",
    "        Label_col[i]=Label_col[i]-2\n",
    "\n",
    "print(np.unique(Label_col))\n",
    "print(len(Label_col),len(df))"
   ]
  },
  {
   "cell_type": "code",
   "execution_count": 8,
   "metadata": {
    "execution": {
     "iopub.execute_input": "2021-04-19T11:57:54.113705Z",
     "iopub.status.busy": "2021-04-19T11:57:54.113045Z",
     "iopub.status.idle": "2021-04-19T11:57:54.390724Z",
     "shell.execute_reply": "2021-04-19T11:57:54.390230Z"
    },
    "papermill": {
     "duration": 0.304796,
     "end_time": "2021-04-19T11:57:54.390861",
     "exception": false,
     "start_time": "2021-04-19T11:57:54.086065",
     "status": "completed"
    },
    "tags": []
   },
   "outputs": [
    {
     "data": {
      "text/html": [
       "<div>\n",
       "<style scoped>\n",
       "    .dataframe tbody tr th:only-of-type {\n",
       "        vertical-align: middle;\n",
       "    }\n",
       "\n",
       "    .dataframe tbody tr th {\n",
       "        vertical-align: top;\n",
       "    }\n",
       "\n",
       "    .dataframe thead th {\n",
       "        text-align: right;\n",
       "    }\n",
       "</style>\n",
       "<table border=\"1\" class=\"dataframe\">\n",
       "  <thead>\n",
       "    <tr style=\"text-align: right;\">\n",
       "      <th></th>\n",
       "      <th>X_Value</th>\n",
       "      <th>Acceleration</th>\n",
       "      <th>Acceleration_0</th>\n",
       "      <th>Acceleration_1</th>\n",
       "      <th>Voltage</th>\n",
       "      <th>Voltage_0</th>\n",
       "      <th>Voltage_1</th>\n",
       "      <th>Voltage_2</th>\n",
       "      <th>Voltage_3</th>\n",
       "      <th>Speed</th>\n",
       "    </tr>\n",
       "  </thead>\n",
       "  <tbody>\n",
       "    <tr>\n",
       "      <th>0</th>\n",
       "      <td>0.00000</td>\n",
       "      <td>-5.351819</td>\n",
       "      <td>0.740582</td>\n",
       "      <td>8.295304</td>\n",
       "      <td>-0.073965</td>\n",
       "      <td>-0.435938</td>\n",
       "      <td>0.510923</td>\n",
       "      <td>0.000558</td>\n",
       "      <td>0.187400</td>\n",
       "      <td>35.0</td>\n",
       "    </tr>\n",
       "    <tr>\n",
       "      <th>1</th>\n",
       "      <td>0.00005</td>\n",
       "      <td>-4.234766</td>\n",
       "      <td>1.739646</td>\n",
       "      <td>9.915628</td>\n",
       "      <td>-0.078768</td>\n",
       "      <td>-0.442555</td>\n",
       "      <td>0.518180</td>\n",
       "      <td>0.000568</td>\n",
       "      <td>-0.171936</td>\n",
       "      <td>35.0</td>\n",
       "    </tr>\n",
       "    <tr>\n",
       "      <th>2</th>\n",
       "      <td>0.00010</td>\n",
       "      <td>-4.241035</td>\n",
       "      <td>-0.400662</td>\n",
       "      <td>4.644429</td>\n",
       "      <td>-0.077888</td>\n",
       "      <td>-0.434361</td>\n",
       "      <td>0.513546</td>\n",
       "      <td>0.000554</td>\n",
       "      <td>-0.182503</td>\n",
       "      <td>35.0</td>\n",
       "    </tr>\n",
       "    <tr>\n",
       "      <th>3</th>\n",
       "      <td>0.00015</td>\n",
       "      <td>-2.607558</td>\n",
       "      <td>-0.598338</td>\n",
       "      <td>1.464432</td>\n",
       "      <td>-0.084278</td>\n",
       "      <td>-0.440163</td>\n",
       "      <td>0.521092</td>\n",
       "      <td>0.000592</td>\n",
       "      <td>-0.020186</td>\n",
       "      <td>35.0</td>\n",
       "    </tr>\n",
       "    <tr>\n",
       "      <th>4</th>\n",
       "      <td>0.00020</td>\n",
       "      <td>-3.243099</td>\n",
       "      <td>-1.413354</td>\n",
       "      <td>-1.211480</td>\n",
       "      <td>-0.082729</td>\n",
       "      <td>-0.432257</td>\n",
       "      <td>0.516258</td>\n",
       "      <td>0.000537</td>\n",
       "      <td>-0.022895</td>\n",
       "      <td>35.0</td>\n",
       "    </tr>\n",
       "    <tr>\n",
       "      <th>...</th>\n",
       "      <td>...</td>\n",
       "      <td>...</td>\n",
       "      <td>...</td>\n",
       "      <td>...</td>\n",
       "      <td>...</td>\n",
       "      <td>...</td>\n",
       "      <td>...</td>\n",
       "      <td>...</td>\n",
       "      <td>...</td>\n",
       "      <td>...</td>\n",
       "    </tr>\n",
       "    <tr>\n",
       "      <th>3719295</th>\n",
       "      <td>29.90475</td>\n",
       "      <td>-0.172585</td>\n",
       "      <td>-1.122119</td>\n",
       "      <td>-2.568856</td>\n",
       "      <td>0.129924</td>\n",
       "      <td>-0.215732</td>\n",
       "      <td>0.082520</td>\n",
       "      <td>-0.000397</td>\n",
       "      <td>-0.193148</td>\n",
       "      <td>25.0</td>\n",
       "    </tr>\n",
       "    <tr>\n",
       "      <th>3719296</th>\n",
       "      <td>29.90480</td>\n",
       "      <td>0.501556</td>\n",
       "      <td>-1.841121</td>\n",
       "      <td>-3.171822</td>\n",
       "      <td>0.130463</td>\n",
       "      <td>-0.218068</td>\n",
       "      <td>0.089042</td>\n",
       "      <td>-0.000500</td>\n",
       "      <td>-0.027359</td>\n",
       "      <td>25.0</td>\n",
       "    </tr>\n",
       "    <tr>\n",
       "      <th>3719297</th>\n",
       "      <td>29.90485</td>\n",
       "      <td>1.899502</td>\n",
       "      <td>-0.382981</td>\n",
       "      <td>-1.162346</td>\n",
       "      <td>0.129154</td>\n",
       "      <td>-0.216884</td>\n",
       "      <td>0.086343</td>\n",
       "      <td>-0.000420</td>\n",
       "      <td>-0.030208</td>\n",
       "      <td>25.0</td>\n",
       "    </tr>\n",
       "    <tr>\n",
       "      <th>3719298</th>\n",
       "      <td>29.90490</td>\n",
       "      <td>0.161535</td>\n",
       "      <td>-1.047591</td>\n",
       "      <td>-0.886533</td>\n",
       "      <td>0.128612</td>\n",
       "      <td>-0.217536</td>\n",
       "      <td>0.091821</td>\n",
       "      <td>-0.000439</td>\n",
       "      <td>-0.009865</td>\n",
       "      <td>25.0</td>\n",
       "    </tr>\n",
       "    <tr>\n",
       "      <th>3719299</th>\n",
       "      <td>29.90495</td>\n",
       "      <td>1.798824</td>\n",
       "      <td>1.032677</td>\n",
       "      <td>0.530148</td>\n",
       "      <td>0.125695</td>\n",
       "      <td>-0.218831</td>\n",
       "      <td>0.090628</td>\n",
       "      <td>-0.000416</td>\n",
       "      <td>0.226535</td>\n",
       "      <td>25.0</td>\n",
       "    </tr>\n",
       "  </tbody>\n",
       "</table>\n",
       "<p>3719300 rows × 10 columns</p>\n",
       "</div>"
      ],
      "text/plain": [
       "          X_Value  Acceleration  Acceleration_0  Acceleration_1   Voltage  \\\n",
       "0         0.00000     -5.351819        0.740582        8.295304 -0.073965   \n",
       "1         0.00005     -4.234766        1.739646        9.915628 -0.078768   \n",
       "2         0.00010     -4.241035       -0.400662        4.644429 -0.077888   \n",
       "3         0.00015     -2.607558       -0.598338        1.464432 -0.084278   \n",
       "4         0.00020     -3.243099       -1.413354       -1.211480 -0.082729   \n",
       "...           ...           ...             ...             ...       ...   \n",
       "3719295  29.90475     -0.172585       -1.122119       -2.568856  0.129924   \n",
       "3719296  29.90480      0.501556       -1.841121       -3.171822  0.130463   \n",
       "3719297  29.90485      1.899502       -0.382981       -1.162346  0.129154   \n",
       "3719298  29.90490      0.161535       -1.047591       -0.886533  0.128612   \n",
       "3719299  29.90495      1.798824        1.032677        0.530148  0.125695   \n",
       "\n",
       "         Voltage_0  Voltage_1  Voltage_2  Voltage_3  Speed  \n",
       "0        -0.435938   0.510923   0.000558   0.187400   35.0  \n",
       "1        -0.442555   0.518180   0.000568  -0.171936   35.0  \n",
       "2        -0.434361   0.513546   0.000554  -0.182503   35.0  \n",
       "3        -0.440163   0.521092   0.000592  -0.020186   35.0  \n",
       "4        -0.432257   0.516258   0.000537  -0.022895   35.0  \n",
       "...            ...        ...        ...        ...    ...  \n",
       "3719295  -0.215732   0.082520  -0.000397  -0.193148   25.0  \n",
       "3719296  -0.218068   0.089042  -0.000500  -0.027359   25.0  \n",
       "3719297  -0.216884   0.086343  -0.000420  -0.030208   25.0  \n",
       "3719298  -0.217536   0.091821  -0.000439  -0.009865   25.0  \n",
       "3719299  -0.218831   0.090628  -0.000416   0.226535   25.0  \n",
       "\n",
       "[3719300 rows x 10 columns]"
      ]
     },
     "execution_count": 8,
     "metadata": {},
     "output_type": "execute_result"
    }
   ],
   "source": [
    "data_mat = copy.deepcopy(df)\n",
    "data_mat.drop(['Label'],axis=1, inplace=True)\n",
    "col_names.remove('Label')\n",
    "data_mat"
   ]
  },
  {
   "cell_type": "code",
   "execution_count": 9,
   "metadata": {
    "execution": {
     "iopub.execute_input": "2021-04-19T11:57:54.439972Z",
     "iopub.status.busy": "2021-04-19T11:57:54.439306Z",
     "iopub.status.idle": "2021-04-19T11:57:54.442277Z",
     "shell.execute_reply": "2021-04-19T11:57:54.441758Z"
    },
    "papermill": {
     "duration": 0.029486,
     "end_time": "2021-04-19T11:57:54.442396",
     "exception": false,
     "start_time": "2021-04-19T11:57:54.412910",
     "status": "completed"
    },
    "tags": []
   },
   "outputs": [],
   "source": [
    "data_list = data_mat.values"
   ]
  },
  {
   "cell_type": "code",
   "execution_count": 10,
   "metadata": {
    "execution": {
     "iopub.execute_input": "2021-04-19T11:57:55.604013Z",
     "iopub.status.busy": "2021-04-19T11:57:55.602844Z",
     "iopub.status.idle": "2021-04-19T11:57:55.608244Z",
     "shell.execute_reply": "2021-04-19T11:57:55.607617Z"
    },
    "papermill": {
     "duration": 1.144034,
     "end_time": "2021-04-19T11:57:55.608382",
     "exception": false,
     "start_time": "2021-04-19T11:57:54.464348",
     "status": "completed"
    },
    "tags": []
   },
   "outputs": [
    {
     "name": "stdout",
     "output_type": "stream",
     "text": [
      "(3719300, 10) (3719300,)\n"
     ]
    }
   ],
   "source": [
    "Label_col = np.array(Label_col)\n",
    "print(np.shape(data_list),np.shape(Label_col))"
   ]
  },
  {
   "cell_type": "code",
   "execution_count": 11,
   "metadata": {
    "execution": {
     "iopub.execute_input": "2021-04-19T11:57:55.673180Z",
     "iopub.status.busy": "2021-04-19T11:57:55.672547Z",
     "iopub.status.idle": "2021-04-19T11:57:55.677261Z",
     "shell.execute_reply": "2021-04-19T11:57:55.676722Z"
    },
    "papermill": {
     "duration": 0.045297,
     "end_time": "2021-04-19T11:57:55.677403",
     "exception": false,
     "start_time": "2021-04-19T11:57:55.632106",
     "status": "completed"
    },
    "tags": []
   },
   "outputs": [
    {
     "data": {
      "text/html": [
       "<div>\n",
       "<style scoped>\n",
       "    .dataframe tbody tr th:only-of-type {\n",
       "        vertical-align: middle;\n",
       "    }\n",
       "\n",
       "    .dataframe tbody tr th {\n",
       "        vertical-align: top;\n",
       "    }\n",
       "\n",
       "    .dataframe thead th {\n",
       "        text-align: right;\n",
       "    }\n",
       "</style>\n",
       "<table border=\"1\" class=\"dataframe\">\n",
       "  <thead>\n",
       "    <tr style=\"text-align: right;\">\n",
       "      <th></th>\n",
       "      <th>0</th>\n",
       "      <th>1</th>\n",
       "      <th>2</th>\n",
       "      <th>3</th>\n",
       "      <th>4</th>\n",
       "      <th>5</th>\n",
       "      <th>6</th>\n",
       "      <th>7</th>\n",
       "      <th>8</th>\n",
       "      <th>9</th>\n",
       "    </tr>\n",
       "  </thead>\n",
       "  <tbody>\n",
       "    <tr>\n",
       "      <th>0</th>\n",
       "      <td>0.00000</td>\n",
       "      <td>-5.351819</td>\n",
       "      <td>0.740582</td>\n",
       "      <td>8.295304</td>\n",
       "      <td>-0.073965</td>\n",
       "      <td>-0.435938</td>\n",
       "      <td>0.510923</td>\n",
       "      <td>0.000558</td>\n",
       "      <td>0.187400</td>\n",
       "      <td>35.0</td>\n",
       "    </tr>\n",
       "    <tr>\n",
       "      <th>1</th>\n",
       "      <td>0.00005</td>\n",
       "      <td>-4.234766</td>\n",
       "      <td>1.739646</td>\n",
       "      <td>9.915628</td>\n",
       "      <td>-0.078768</td>\n",
       "      <td>-0.442555</td>\n",
       "      <td>0.518180</td>\n",
       "      <td>0.000568</td>\n",
       "      <td>-0.171936</td>\n",
       "      <td>35.0</td>\n",
       "    </tr>\n",
       "    <tr>\n",
       "      <th>2</th>\n",
       "      <td>0.00010</td>\n",
       "      <td>-4.241035</td>\n",
       "      <td>-0.400662</td>\n",
       "      <td>4.644429</td>\n",
       "      <td>-0.077888</td>\n",
       "      <td>-0.434361</td>\n",
       "      <td>0.513546</td>\n",
       "      <td>0.000554</td>\n",
       "      <td>-0.182503</td>\n",
       "      <td>35.0</td>\n",
       "    </tr>\n",
       "    <tr>\n",
       "      <th>3</th>\n",
       "      <td>0.00015</td>\n",
       "      <td>-2.607558</td>\n",
       "      <td>-0.598338</td>\n",
       "      <td>1.464432</td>\n",
       "      <td>-0.084278</td>\n",
       "      <td>-0.440163</td>\n",
       "      <td>0.521092</td>\n",
       "      <td>0.000592</td>\n",
       "      <td>-0.020186</td>\n",
       "      <td>35.0</td>\n",
       "    </tr>\n",
       "    <tr>\n",
       "      <th>4</th>\n",
       "      <td>0.00020</td>\n",
       "      <td>-3.243099</td>\n",
       "      <td>-1.413354</td>\n",
       "      <td>-1.211480</td>\n",
       "      <td>-0.082729</td>\n",
       "      <td>-0.432257</td>\n",
       "      <td>0.516258</td>\n",
       "      <td>0.000537</td>\n",
       "      <td>-0.022895</td>\n",
       "      <td>35.0</td>\n",
       "    </tr>\n",
       "  </tbody>\n",
       "</table>\n",
       "</div>"
      ],
      "text/plain": [
       "         0         1         2         3         4         5         6  \\\n",
       "0  0.00000 -5.351819  0.740582  8.295304 -0.073965 -0.435938  0.510923   \n",
       "1  0.00005 -4.234766  1.739646  9.915628 -0.078768 -0.442555  0.518180   \n",
       "2  0.00010 -4.241035 -0.400662  4.644429 -0.077888 -0.434361  0.513546   \n",
       "3  0.00015 -2.607558 -0.598338  1.464432 -0.084278 -0.440163  0.521092   \n",
       "4  0.00020 -3.243099 -1.413354 -1.211480 -0.082729 -0.432257  0.516258   \n",
       "\n",
       "          7         8     9  \n",
       "0  0.000558  0.187400  35.0  \n",
       "1  0.000568 -0.171936  35.0  \n",
       "2  0.000554 -0.182503  35.0  \n",
       "3  0.000592 -0.020186  35.0  \n",
       "4  0.000537 -0.022895  35.0  "
      ]
     },
     "execution_count": 11,
     "metadata": {},
     "output_type": "execute_result"
    }
   ],
   "source": [
    "pd.DataFrame(data_list[0:5])"
   ]
  },
  {
   "cell_type": "code",
   "execution_count": 12,
   "metadata": {
    "execution": {
     "iopub.execute_input": "2021-04-19T11:57:55.728711Z",
     "iopub.status.busy": "2021-04-19T11:57:55.728123Z",
     "iopub.status.idle": "2021-04-19T11:57:55.731419Z",
     "shell.execute_reply": "2021-04-19T11:57:55.730880Z"
    },
    "papermill": {
     "duration": 0.030537,
     "end_time": "2021-04-19T11:57:55.731549",
     "exception": false,
     "start_time": "2021-04-19T11:57:55.701012",
     "status": "completed"
    },
    "tags": []
   },
   "outputs": [],
   "source": [
    "X = data_list\n",
    "Y = Label_col"
   ]
  },
  {
   "cell_type": "code",
   "execution_count": 13,
   "metadata": {
    "execution": {
     "iopub.execute_input": "2021-04-19T11:57:55.784312Z",
     "iopub.status.busy": "2021-04-19T11:57:55.783695Z",
     "iopub.status.idle": "2021-04-19T11:57:56.638486Z",
     "shell.execute_reply": "2021-04-19T11:57:56.637714Z"
    },
    "papermill": {
     "duration": 0.882934,
     "end_time": "2021-04-19T11:57:56.638650",
     "exception": false,
     "start_time": "2021-04-19T11:57:55.755716",
     "status": "completed"
    },
    "tags": []
   },
   "outputs": [],
   "source": [
    "from sklearn.model_selection import train_test_split\n",
    "X_train, X_test, y_train, y_test = train_test_split(X,Y,test_size = 0.2, random_state = 1,shuffle=True)"
   ]
  },
  {
   "cell_type": "code",
   "execution_count": 14,
   "metadata": {
    "execution": {
     "iopub.execute_input": "2021-04-19T11:57:56.694233Z",
     "iopub.status.busy": "2021-04-19T11:57:56.693493Z",
     "iopub.status.idle": "2021-04-19T11:57:56.807026Z",
     "shell.execute_reply": "2021-04-19T11:57:56.806332Z"
    },
    "papermill": {
     "duration": 0.143703,
     "end_time": "2021-04-19T11:57:56.807245",
     "exception": false,
     "start_time": "2021-04-19T11:57:56.663542",
     "status": "completed"
    },
    "tags": []
   },
   "outputs": [
    {
     "name": "stdout",
     "output_type": "stream",
     "text": [
      "(2975440, 10) (2975440,) (743860, 10) (743860,)\n",
      "(2975440, 10) (2975440, 9) (743860, 10) (743860, 9)\n"
     ]
    }
   ],
   "source": [
    "print(np.shape(X_train),np.shape(y_train),np.shape(X_test),np.shape(y_test))\n",
    "y_test_copy = copy.deepcopy(y_test)\n",
    "y_train = tf.keras.utils.to_categorical(y_train, 9)\n",
    "y_test = tf.keras.utils.to_categorical(y_test, 9)\n",
    "print(np.shape(X_train),np.shape(y_train),np.shape(X_test),np.shape(y_test))"
   ]
  },
  {
   "cell_type": "code",
   "execution_count": 15,
   "metadata": {
    "execution": {
     "iopub.execute_input": "2021-04-19T11:57:57.172681Z",
     "iopub.status.busy": "2021-04-19T11:57:57.171939Z",
     "iopub.status.idle": "2021-04-19T11:57:57.242297Z",
     "shell.execute_reply": "2021-04-19T11:57:57.241711Z"
    },
    "papermill": {
     "duration": 0.410023,
     "end_time": "2021-04-19T11:57:57.242443",
     "exception": false,
     "start_time": "2021-04-19T11:57:56.832420",
     "status": "completed"
    },
    "tags": []
   },
   "outputs": [],
   "source": [
    "train_dataset = tf.data.Dataset.from_tensor_slices((X_train, y_train))\n",
    "test_dataset = tf.data.Dataset.from_tensor_slices((X_test, y_test))"
   ]
  },
  {
   "cell_type": "code",
   "execution_count": 16,
   "metadata": {
    "execution": {
     "iopub.execute_input": "2021-04-19T11:57:57.298404Z",
     "iopub.status.busy": "2021-04-19T11:57:57.297543Z",
     "iopub.status.idle": "2021-04-19T11:57:57.307013Z",
     "shell.execute_reply": "2021-04-19T11:57:57.306532Z"
    },
    "papermill": {
     "duration": 0.039501,
     "end_time": "2021-04-19T11:57:57.307153",
     "exception": false,
     "start_time": "2021-04-19T11:57:57.267652",
     "status": "completed"
    },
    "tags": []
   },
   "outputs": [],
   "source": [
    "BATCH_SIZE = 64\n",
    "SHUFFLE_BUFFER_SIZE = 100\n",
    "\n",
    "train_dataset = train_dataset.shuffle(SHUFFLE_BUFFER_SIZE).batch(BATCH_SIZE)\n",
    "test_dataset = test_dataset.batch(BATCH_SIZE)"
   ]
  },
  {
   "cell_type": "code",
   "execution_count": 17,
   "metadata": {
    "execution": {
     "iopub.execute_input": "2021-04-19T11:57:57.363491Z",
     "iopub.status.busy": "2021-04-19T11:57:57.362690Z",
     "iopub.status.idle": "2021-04-19T11:57:57.460292Z",
     "shell.execute_reply": "2021-04-19T11:57:57.459758Z"
    },
    "papermill": {
     "duration": 0.128654,
     "end_time": "2021-04-19T11:57:57.460430",
     "exception": false,
     "start_time": "2021-04-19T11:57:57.331776",
     "status": "completed"
    },
    "tags": []
   },
   "outputs": [],
   "source": [
    "from keras.models import Sequential\n",
    "from keras.layers import Dense, Activation\n",
    "from keras.utils import to_categorical\n",
    "model = keras.Sequential([\n",
    " keras.layers.Dense(32,activation='relu',input_shape=(10,)),\n",
    " keras.layers.Dense(32,activation='relu'),\n",
    " keras.layers.BatchNormalization(),\n",
    " keras.layers.Dense(16,activation='relu'),\n",
    " keras.layers.Dense(16,activation='relu'),\n",
    " keras.layers.BatchNormalization(),\n",
    " keras.layers.Dense(9, activation='softmax')\n",
    "])"
   ]
  },
  {
   "cell_type": "code",
   "execution_count": 18,
   "metadata": {
    "execution": {
     "iopub.execute_input": "2021-04-19T11:57:57.513131Z",
     "iopub.status.busy": "2021-04-19T11:57:57.512564Z",
     "iopub.status.idle": "2021-04-19T11:57:57.521275Z",
     "shell.execute_reply": "2021-04-19T11:57:57.521765Z"
    },
    "papermill": {
     "duration": 0.036568,
     "end_time": "2021-04-19T11:57:57.521936",
     "exception": false,
     "start_time": "2021-04-19T11:57:57.485368",
     "status": "completed"
    },
    "tags": []
   },
   "outputs": [
    {
     "name": "stdout",
     "output_type": "stream",
     "text": [
      "Model: \"sequential\"\n",
      "_________________________________________________________________\n",
      "Layer (type)                 Output Shape              Param #   \n",
      "=================================================================\n",
      "dense (Dense)                (None, 32)                352       \n",
      "_________________________________________________________________\n",
      "dense_1 (Dense)              (None, 32)                1056      \n",
      "_________________________________________________________________\n",
      "batch_normalization (BatchNo (None, 32)                128       \n",
      "_________________________________________________________________\n",
      "dense_2 (Dense)              (None, 16)                528       \n",
      "_________________________________________________________________\n",
      "dense_3 (Dense)              (None, 16)                272       \n",
      "_________________________________________________________________\n",
      "batch_normalization_1 (Batch (None, 16)                64        \n",
      "_________________________________________________________________\n",
      "dense_4 (Dense)              (None, 9)                 153       \n",
      "=================================================================\n",
      "Total params: 2,553\n",
      "Trainable params: 2,457\n",
      "Non-trainable params: 96\n",
      "_________________________________________________________________\n"
     ]
    }
   ],
   "source": [
    "model.summary()"
   ]
  },
  {
   "cell_type": "code",
   "execution_count": 19,
   "metadata": {
    "execution": {
     "iopub.execute_input": "2021-04-19T11:57:57.585947Z",
     "iopub.status.busy": "2021-04-19T11:57:57.583346Z",
     "iopub.status.idle": "2021-04-19T11:57:57.593592Z",
     "shell.execute_reply": "2021-04-19T11:57:57.593052Z"
    },
    "papermill": {
     "duration": 0.045885,
     "end_time": "2021-04-19T11:57:57.593726",
     "exception": false,
     "start_time": "2021-04-19T11:57:57.547841",
     "status": "completed"
    },
    "tags": []
   },
   "outputs": [],
   "source": [
    "adam = keras.optimizers.Adam(learning_rate=0.001, beta_1=0.9, beta_2=0.999, amsgrad=False)\n",
    "model.compile(optimizer=adam,\n",
    " loss='categorical_crossentropy',\n",
    " metrics=['accuracy'])"
   ]
  },
  {
   "cell_type": "code",
   "execution_count": 20,
   "metadata": {
    "execution": {
     "iopub.execute_input": "2021-04-19T11:57:57.648903Z",
     "iopub.status.busy": "2021-04-19T11:57:57.648257Z",
     "iopub.status.idle": "2021-04-19T12:28:43.862369Z",
     "shell.execute_reply": "2021-04-19T12:28:43.861649Z"
    },
    "papermill": {
     "duration": 1846.242766,
     "end_time": "2021-04-19T12:28:43.862521",
     "exception": false,
     "start_time": "2021-04-19T11:57:57.619755",
     "status": "completed"
    },
    "tags": []
   },
   "outputs": [
    {
     "name": "stdout",
     "output_type": "stream",
     "text": [
      "Epoch 1/25\n",
      "46492/46492 [==============================] - 75s 2ms/step - loss: 1.8208 - accuracy: 0.2998\n",
      "Epoch 2/25\n",
      "46492/46492 [==============================] - 73s 2ms/step - loss: 1.4489 - accuracy: 0.4377\n",
      "Epoch 3/25\n",
      "46492/46492 [==============================] - 73s 2ms/step - loss: 1.3549 - accuracy: 0.4707\n",
      "Epoch 4/25\n",
      "46492/46492 [==============================] - 72s 2ms/step - loss: 1.3199 - accuracy: 0.4843\n",
      "Epoch 5/25\n",
      "46492/46492 [==============================] - 72s 2ms/step - loss: 1.2913 - accuracy: 0.4963\n",
      "Epoch 6/25\n",
      "46492/46492 [==============================] - 74s 2ms/step - loss: 1.2672 - accuracy: 0.5047\n",
      "Epoch 7/25\n",
      "46492/46492 [==============================] - 73s 2ms/step - loss: 1.2484 - accuracy: 0.5119\n",
      "Epoch 8/25\n",
      "46492/46492 [==============================] - 72s 2ms/step - loss: 1.2382 - accuracy: 0.5164\n",
      "Epoch 9/25\n",
      "46492/46492 [==============================] - 74s 2ms/step - loss: 1.2275 - accuracy: 0.5206\n",
      "Epoch 10/25\n",
      "46492/46492 [==============================] - 75s 2ms/step - loss: 1.2204 - accuracy: 0.5230\n",
      "Epoch 11/25\n",
      "46492/46492 [==============================] - 74s 2ms/step - loss: 1.2138 - accuracy: 0.5254\n",
      "Epoch 12/25\n",
      "46492/46492 [==============================] - 74s 2ms/step - loss: 1.2088 - accuracy: 0.5274\n",
      "Epoch 13/25\n",
      "46492/46492 [==============================] - 72s 2ms/step - loss: 1.2039 - accuracy: 0.5291\n",
      "Epoch 14/25\n",
      "46492/46492 [==============================] - 73s 2ms/step - loss: 1.2003 - accuracy: 0.5304\n",
      "Epoch 15/25\n",
      "46492/46492 [==============================] - 74s 2ms/step - loss: 1.1968 - accuracy: 0.5321\n",
      "Epoch 16/25\n",
      "46492/46492 [==============================] - 74s 2ms/step - loss: 1.1944 - accuracy: 0.5328\n",
      "Epoch 17/25\n",
      "46492/46492 [==============================] - 73s 2ms/step - loss: 1.1920 - accuracy: 0.5344\n",
      "Epoch 18/25\n",
      "46492/46492 [==============================] - 74s 2ms/step - loss: 1.1900 - accuracy: 0.5348\n",
      "Epoch 19/25\n",
      "46492/46492 [==============================] - 73s 2ms/step - loss: 1.1885 - accuracy: 0.5355\n",
      "Epoch 20/25\n",
      "46492/46492 [==============================] - 74s 2ms/step - loss: 1.1864 - accuracy: 0.5370\n",
      "Epoch 21/25\n",
      "46492/46492 [==============================] - 74s 2ms/step - loss: 1.1852 - accuracy: 0.5372\n",
      "Epoch 22/25\n",
      "46492/46492 [==============================] - 73s 2ms/step - loss: 1.1837 - accuracy: 0.5380\n",
      "Epoch 23/25\n",
      "46492/46492 [==============================] - 76s 2ms/step - loss: 1.1818 - accuracy: 0.5385\n",
      "Epoch 24/25\n",
      "46492/46492 [==============================] - 75s 2ms/step - loss: 1.1805 - accuracy: 0.5392\n",
      "Epoch 25/25\n",
      "46492/46492 [==============================] - 75s 2ms/step - loss: 1.1791 - accuracy: 0.5397\n"
     ]
    }
   ],
   "source": [
    "history = model.fit(train_dataset, epochs=25, batch_size=100, shuffle='True' )\n"
   ]
  },
  {
   "cell_type": "code",
   "execution_count": 21,
   "metadata": {
    "execution": {
     "iopub.execute_input": "2021-04-19T12:29:05.523614Z",
     "iopub.status.busy": "2021-04-19T12:29:05.522682Z",
     "iopub.status.idle": "2021-04-19T12:29:16.928362Z",
     "shell.execute_reply": "2021-04-19T12:29:16.928801Z"
    },
    "papermill": {
     "duration": 22.250276,
     "end_time": "2021-04-19T12:29:16.928977",
     "exception": false,
     "start_time": "2021-04-19T12:28:54.678701",
     "status": "completed"
    },
    "tags": []
   },
   "outputs": [
    {
     "name": "stdout",
     "output_type": "stream",
     "text": [
      "11623/11623 [==============================] - 11s 954us/step - loss: 1.1436 - accuracy: 0.5500\n"
     ]
    },
    {
     "data": {
      "text/plain": [
       "[1.1436405181884766, 0.5499811768531799]"
      ]
     },
     "execution_count": 21,
     "metadata": {},
     "output_type": "execute_result"
    }
   ],
   "source": [
    "model.evaluate(test_dataset)"
   ]
  },
  {
   "cell_type": "code",
   "execution_count": 22,
   "metadata": {
    "execution": {
     "iopub.execute_input": "2021-04-19T12:29:38.942208Z",
     "iopub.status.busy": "2021-04-19T12:29:38.940545Z",
     "iopub.status.idle": "2021-04-19T12:29:39.096897Z",
     "shell.execute_reply": "2021-04-19T12:29:39.097438Z"
    },
    "papermill": {
     "duration": 11.134262,
     "end_time": "2021-04-19T12:29:39.097602",
     "exception": false,
     "start_time": "2021-04-19T12:29:27.963340",
     "status": "completed"
    },
    "tags": []
   },
   "outputs": [
    {
     "data": {
      "text/plain": [
       "<matplotlib.legend.Legend at 0x7f8883f4e990>"
      ]
     },
     "execution_count": 22,
     "metadata": {},
     "output_type": "execute_result"
    },
    {
     "data": {
      "image/png": "[encoded data removed]",
      "text/plain": [
       "<Figure size 432x288 with 1 Axes>"
      ]
     },
     "metadata": {
      "needs_background": "light"
     },
     "output_type": "display_data"
    }
   ],
   "source": [
    "import matplotlib.pyplot as plt\n",
    "plt.title('Model Accuracy')\n",
    "plt.plot(history.history['accuracy'], label='accuracy')\n",
    "plt.xlabel('Epoch')\n",
    "plt.ylabel('Accuracy')\n",
    "plt.ylim([0.0, 1])\n",
    "plt.legend(loc='lower right')"
   ]
  },
  {
   "cell_type": "code",
   "execution_count": 23,
   "metadata": {
    "execution": {
     "iopub.execute_input": "2021-04-19T12:30:01.064581Z",
     "iopub.status.busy": "2021-04-19T12:30:01.063915Z",
     "iopub.status.idle": "2021-04-19T12:30:01.194317Z",
     "shell.execute_reply": "2021-04-19T12:30:01.194754Z"
    },
    "papermill": {
     "duration": 11.153426,
     "end_time": "2021-04-19T12:30:01.194937",
     "exception": false,
     "start_time": "2021-04-19T12:29:50.041511",
     "status": "completed"
    },
    "tags": []
   },
   "outputs": [
    {
     "data": {
      "text/plain": [
       "<matplotlib.legend.Legend at 0x7f887d449310>"
      ]
     },
     "execution_count": 23,
     "metadata": {},
     "output_type": "execute_result"
    },
    {
     "data": {
      "image/png": "[encoded data removed]",
      "text/plain": [
       "<Figure size 432x288 with 1 Axes>"
      ]
     },
     "metadata": {
      "needs_background": "light"
     },
     "output_type": "display_data"
    }
   ],
   "source": [
    "plt.title('Model loss')\n",
    "plt.plot(history.history['loss'], label='loss')\n",
    "plt.xlabel('Epoch')\n",
    "plt.ylabel('Loss')\n",
    "plt.ylim([0.0, 1])\n",
    "plt.legend(loc='lower right')"
   ]
  },
  {
   "cell_type": "code",
   "execution_count": 24,
   "metadata": {
    "execution": {
     "iopub.execute_input": "2021-04-19T12:30:23.067773Z",
     "iopub.status.busy": "2021-04-19T12:30:23.066808Z",
     "iopub.status.idle": "2021-04-19T12:30:23.070083Z",
     "shell.execute_reply": "2021-04-19T12:30:23.069483Z"
    },
    "papermill": {
     "duration": 10.968355,
     "end_time": "2021-04-19T12:30:23.070215",
     "exception": false,
     "start_time": "2021-04-19T12:30:12.101860",
     "status": "completed"
    },
    "tags": []
   },
   "outputs": [],
   "source": [
    "Class_names = [\n",
    "'ND',\n",
    "'BF',\n",
    "'UR',\n",
    "'BRF',\n",
    "'RM',\n",
    "'BRBF',\n",
    "'VUSFF',\n",
    "'PUSPF',\n",
    "'MPUSPF',\n",
    "'MSWF',\n",
    "'SWF']\n",
    "\n",
    "#removing missing file names\n",
    "Class_names.remove('PUSPF')\n",
    "Class_names.remove('MPUSPF')"
   ]
  },
  {
   "cell_type": "code",
   "execution_count": 25,
   "metadata": {
    "execution": {
     "iopub.execute_input": "2021-04-19T12:30:44.901581Z",
     "iopub.status.busy": "2021-04-19T12:30:44.900239Z",
     "iopub.status.idle": "2021-04-19T12:30:53.237523Z",
     "shell.execute_reply": "2021-04-19T12:30:53.238220Z"
    },
    "papermill": {
     "duration": 19.212836,
     "end_time": "2021-04-19T12:30:53.238406",
     "exception": false,
     "start_time": "2021-04-19T12:30:34.025570",
     "status": "completed"
    },
    "tags": []
   },
   "outputs": [],
   "source": [
    "predictions = model.predict(test_dataset, batch_size=10, verbose=0)"
   ]
  },
  {
   "cell_type": "code",
   "execution_count": 26,
   "metadata": {
    "execution": {
     "iopub.execute_input": "2021-04-19T12:31:14.783163Z",
     "iopub.status.busy": "2021-04-19T12:31:14.782188Z",
     "iopub.status.idle": "2021-04-19T12:31:14.787690Z",
     "shell.execute_reply": "2021-04-19T12:31:14.787053Z"
    },
    "papermill": {
     "duration": 10.719731,
     "end_time": "2021-04-19T12:31:14.787831",
     "exception": false,
     "start_time": "2021-04-19T12:31:04.068100",
     "status": "completed"
    },
    "tags": []
   },
   "outputs": [
    {
     "data": {
      "text/plain": [
       "array([[1.6789669e-01, 1.2339085e-02, 7.0566311e-02, ..., 1.7796454e-01,\n",
       "        7.6956756e-02, 7.3850438e-02],\n",
       "       [3.6771860e-04, 9.9663925e-01, 2.7397944e-06, ..., 2.7599235e-03,\n",
       "        4.1977941e-07, 1.6980456e-08],\n",
       "       [2.6479555e-07, 2.3527461e-08, 1.6334069e-07, ..., 1.2320622e-07,\n",
       "        3.3614374e-04, 9.9964368e-01],\n",
       "       ...,\n",
       "       [9.2236456e-05, 9.2800753e-03, 5.6569206e-05, ..., 6.3261623e-04,\n",
       "        2.3891394e-06, 1.0653679e-09],\n",
       "       [5.1230133e-02, 4.5758229e-02, 7.8672275e-02, ..., 3.9098096e-01,\n",
       "        5.1982798e-02, 7.7581182e-03],\n",
       "       [6.3703632e-01, 2.2124439e-04, 1.0462135e-02, ..., 4.1663432e-03,\n",
       "        1.0969405e-05, 9.0873064e-06]], dtype=float32)"
      ]
     },
     "execution_count": 26,
     "metadata": {},
     "output_type": "execute_result"
    }
   ],
   "source": [
    "predictions"
   ]
  },
  {
   "cell_type": "code",
   "execution_count": 27,
   "metadata": {
    "execution": {
     "iopub.execute_input": "2021-04-19T12:31:36.505311Z",
     "iopub.status.busy": "2021-04-19T12:31:36.504562Z",
     "iopub.status.idle": "2021-04-19T12:31:44.172615Z",
     "shell.execute_reply": "2021-04-19T12:31:44.173036Z"
    },
    "papermill": {
     "duration": 18.617523,
     "end_time": "2021-04-19T12:31:44.173225",
     "exception": false,
     "start_time": "2021-04-19T12:31:25.555702",
     "status": "completed"
    },
    "tags": []
   },
   "outputs": [
    {
     "name": "stderr",
     "output_type": "stream",
     "text": [
      "/opt/conda/lib/python3.7/site-packages/tensorflow/python/keras/engine/sequential.py:450: UserWarning: `model.predict_classes()` is deprecated and will be removed after 2021-01-01. Please use instead:* `np.argmax(model.predict(x), axis=-1)`,   if your model does multi-class classification   (e.g. if it uses a `softmax` last-layer activation).* `(model.predict(x) > 0.5).astype(\"int32\")`,   if your model does binary classification   (e.g. if it uses a `sigmoid` last-layer activation).\n",
      "  warnings.warn('`model.predict_classes()` is deprecated and '\n"
     ]
    }
   ],
   "source": [
    "predicted_classes = model.predict_classes(test_dataset, batch_size=10, verbose=0)"
   ]
  },
  {
   "cell_type": "code",
   "execution_count": 28,
   "metadata": {
    "execution": {
     "iopub.execute_input": "2021-04-19T12:32:05.401623Z",
     "iopub.status.busy": "2021-04-19T12:32:05.401033Z",
     "iopub.status.idle": "2021-04-19T12:32:05.404853Z",
     "shell.execute_reply": "2021-04-19T12:32:05.405278Z"
    },
    "papermill": {
     "duration": 10.519063,
     "end_time": "2021-04-19T12:32:05.405428",
     "exception": false,
     "start_time": "2021-04-19T12:31:54.886365",
     "status": "completed"
    },
    "tags": []
   },
   "outputs": [
    {
     "data": {
      "text/plain": [
       "array([5, 1, 8, ..., 3, 6, 0])"
      ]
     },
     "execution_count": 28,
     "metadata": {},
     "output_type": "execute_result"
    }
   ],
   "source": [
    "predicted_classes"
   ]
  },
  {
   "cell_type": "code",
   "execution_count": 29,
   "metadata": {
    "execution": {
     "iopub.execute_input": "2021-04-19T12:32:26.629949Z",
     "iopub.status.busy": "2021-04-19T12:32:26.629295Z",
     "iopub.status.idle": "2021-04-19T12:32:27.737577Z",
     "shell.execute_reply": "2021-04-19T12:32:27.737075Z"
    },
    "papermill": {
     "duration": 11.779893,
     "end_time": "2021-04-19T12:32:27.737750",
     "exception": false,
     "start_time": "2021-04-19T12:32:15.957857",
     "status": "completed"
    },
    "tags": []
   },
   "outputs": [
    {
     "data": {
      "text/plain": [
       "array([[33565,  2060,  7400,  8290,  9530,  7595, 14187,  1027,   497],\n",
       "       [ 1496, 52387, 10180,  7079,  2184,  1571,  8424,   569,    23],\n",
       "       [ 7283,  6655, 40988,  5367,  4606,  3860, 13259,  1426,   195],\n",
       "       [ 8208,  3431,  5507, 38352,  6673,  5770, 14795,   806,   144],\n",
       "       [ 7747,  1701,  2056,  6214, 41772,  3695,  6866,   552,   846],\n",
       "       [15616,   986,  6883, 11056,  6537, 27166, 14538,  1394,   222],\n",
       "       [ 6402,  3969, 11157,  8480,  3887,  4117, 44720,  1647,   159],\n",
       "       [ 3125,   667,  1144,  1251,  3680,  1914,  2854, 57766, 11560],\n",
       "       [ 1404,    94,   245,   418,  3090,   614,   698,  5169, 72393]])"
      ]
     },
     "execution_count": 29,
     "metadata": {},
     "output_type": "execute_result"
    }
   ],
   "source": [
    "import sklearn.metrics as metrics\n",
    "confusion_matrix = metrics.confusion_matrix(y_true=y_test_copy, y_pred=predicted_classes)\n",
    "confusion_matrix"
   ]
  },
  {
   "cell_type": "code",
   "execution_count": 30,
   "metadata": {
    "execution": {
     "iopub.execute_input": "2021-04-19T12:32:49.054219Z",
     "iopub.status.busy": "2021-04-19T12:32:49.053541Z",
     "iopub.status.idle": "2021-04-19T12:32:49.056567Z",
     "shell.execute_reply": "2021-04-19T12:32:49.055983Z"
    },
    "papermill": {
     "duration": 10.70255,
     "end_time": "2021-04-19T12:32:49.056695",
     "exception": false,
     "start_time": "2021-04-19T12:32:38.354145",
     "status": "completed"
    },
    "tags": []
   },
   "outputs": [],
   "source": [
    "def plot_confusion_matrix(cm,\n",
    "                          target_names,\n",
    "                          title='Confusion matrix',\n",
    "                          cmap=None,\n",
    "                          normalize=True):\n",
    "    \"\"\"\n",
    "    Citiation\n",
    "    ---------\n",
    "    http://scikit-learn.org/stable/auto_examples/model_selection/plot_confusion_matrix.html\n",
    "    \n",
    "    \"\"\"\n",
    "    import matplotlib.pyplot as plt\n",
    "    import numpy as np\n",
    "    import itertools\n",
    "\n",
    "    accuracy = np.trace(cm) / float(np.sum(cm))\n",
    "    misclass = 1 - accuracy\n",
    "\n",
    "    if cmap is None:\n",
    "        cmap = plt.get_cmap('Blues')\n",
    "\n",
    "    plt.figure(figsize=(8, 6))\n",
    "    plt.imshow(cm, interpolation='nearest', cmap=cmap)\n",
    "    plt.title(title)\n",
    "    plt.colorbar()\n",
    "\n",
    "    if target_names is not None:\n",
    "        tick_marks = np.arange(len(target_names))\n",
    "        plt.xticks(tick_marks, target_names, rotation=45)\n",
    "        plt.yticks(tick_marks, target_names)\n",
    "\n",
    "    if normalize:\n",
    "        cm = cm.astype('float') / cm.sum(axis=1)[:, np.newaxis]\n",
    "\n",
    "\n",
    "    thresh = cm.max() / 1.5 if normalize else cm.max() / 2\n",
    "    for i, j in itertools.product(range(cm.shape[0]), range(cm.shape[1])):\n",
    "        if normalize:\n",
    "            plt.text(j, i, \"{:0.4f}\".format(cm[i, j]),\n",
    "                     horizontalalignment=\"center\",\n",
    "                     color=\"white\" if cm[i, j] > thresh else \"black\")\n",
    "        else:\n",
    "            plt.text(j, i, \"{:,}\".format(cm[i, j]),\n",
    "                     horizontalalignment=\"center\",\n",
    "                     color=\"white\" if cm[i, j] > thresh else \"black\")\n",
    "\n",
    "\n",
    "    plt.tight_layout()\n",
    "    plt.ylabel('True label')\n",
    "    plt.xlabel('Predicted label\\naccuracy={:0.4f}; misclass={:0.4f}'.format(accuracy, misclass))\n",
    "    plt.show()\n",
    "\n"
   ]
  },
  {
   "cell_type": "code",
   "execution_count": 31,
   "metadata": {
    "execution": {
     "iopub.execute_input": "2021-04-19T12:33:10.952748Z",
     "iopub.status.busy": "2021-04-19T12:33:10.952110Z",
     "iopub.status.idle": "2021-04-19T12:33:11.765598Z",
     "shell.execute_reply": "2021-04-19T12:33:11.766121Z"
    },
    "papermill": {
     "duration": 11.782729,
     "end_time": "2021-04-19T12:33:11.766311",
     "exception": false,
     "start_time": "2021-04-19T12:32:59.983582",
     "status": "completed"
    },
    "tags": []
   },
   "outputs": [
    {
     "data": {
      "image/png": "[encoded data removed]",
      "text/plain": [
       "<Figure size 576x432 with 2 Axes>"
      ]
     },
     "metadata": {
      "needs_background": "light"
     },
     "output_type": "display_data"
    }
   ],
   "source": [
    "plot_confusion_matrix(confusion_matrix, \n",
    "                      normalize    = False,\n",
    "                      target_names = Class_names,\n",
    "                      title        = \"Confusion Matrix\")"
   ]
  },
  {
   "cell_type": "code",
   "execution_count": 32,
   "metadata": {
    "execution": {
     "iopub.execute_input": "2021-04-19T12:33:33.850050Z",
     "iopub.status.busy": "2021-04-19T12:33:33.849083Z",
     "iopub.status.idle": "2021-04-19T12:33:35.718089Z",
     "shell.execute_reply": "2021-04-19T12:33:35.718584Z"
    },
    "papermill": {
     "duration": 12.965549,
     "end_time": "2021-04-19T12:33:35.718760",
     "exception": false,
     "start_time": "2021-04-19T12:33:22.753211",
     "status": "completed"
    },
    "tags": []
   },
   "outputs": [
    {
     "name": "stdout",
     "output_type": "stream",
     "text": [
      "              precision    recall  f1-score   support\n",
      "\n",
      "         0.0       0.40      0.40      0.40     84151\n",
      "         1.0       0.73      0.62      0.67     83913\n",
      "         2.0       0.48      0.49      0.48     83639\n",
      "         3.0       0.44      0.46      0.45     83686\n",
      "         4.0       0.51      0.58      0.54     71449\n",
      "         5.0       0.48      0.32      0.39     84398\n",
      "         6.0       0.37      0.53      0.44     84538\n",
      "         7.0       0.82      0.69      0.75     83961\n",
      "         8.0       0.84      0.86      0.85     84125\n",
      "\n",
      "    accuracy                           0.55    743860\n",
      "   macro avg       0.56      0.55      0.55    743860\n",
      "weighted avg       0.56      0.55      0.55    743860\n",
      "\n"
     ]
    }
   ],
   "source": [
    "report = metrics.classification_report(y_test_copy, predicted_classes)\n",
    "print(report)  "
   ]
  },
  {
   "cell_type": "code",
   "execution_count": 33,
   "metadata": {
    "execution": {
     "iopub.execute_input": "2021-04-19T12:33:57.521146Z",
     "iopub.status.busy": "2021-04-19T12:33:57.513711Z",
     "iopub.status.idle": "2021-04-19T12:33:57.555547Z",
     "shell.execute_reply": "2021-04-19T12:33:57.554477Z"
    },
    "papermill": {
     "duration": 10.905934,
     "end_time": "2021-04-19T12:33:57.555764",
     "exception": false,
     "start_time": "2021-04-19T12:33:46.649830",
     "status": "completed"
    },
    "tags": []
   },
   "outputs": [
    {
     "name": "stdout",
     "output_type": "stream",
     "text": [
      "Saved model to disk\n"
     ]
    }
   ],
   "source": [
    "# save model and architecture to single file\n",
    "model.save(\"Model_NN_9_classes.h5\")\n",
    "print(\"Saved model to disk\")"
   ]
  },
  {
   "cell_type": "code",
   "execution_count": null,
   "metadata": {
    "papermill": {
     "duration": 11.081955,
     "end_time": "2021-04-19T12:34:19.689625",
     "exception": false,
     "start_time": "2021-04-19T12:34:08.607670",
     "status": "completed"
    },
    "tags": []
   },
   "outputs": [],
   "source": []
  }
 ],
 "metadata": {
  "kernelspec": {
   "display_name": "Python 3",
   "language": "python",
   "name": "python3"
  },
  "language_info": {
   "codemirror_mode": {
    "name": "ipython",
    "version": 3
   },
   "file_extension": ".py",
   "mimetype": "text/x-python",
   "name": "python",
   "nbconvert_exporter": "python",
   "pygments_lexer": "ipython3",
   "version": "3.7.9"
  },
  "papermill": {
   "default_parameters": {},
   "duration": 2539.538012,
   "end_time": "2021-04-19T12:34:32.823689",
   "environment_variables": {},
   "exception": null,
   "input_path": "__notebook__.ipynb",
   "output_path": "__notebook__.ipynb",
   "parameters": {},
   "start_time": "2021-04-19T11:52:13.285677",
   "version": "2.2.2"
  }
 },
 "nbformat": 4,
 "nbformat_minor": 4
}
