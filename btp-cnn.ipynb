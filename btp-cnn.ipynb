{
 "cells": [
  {
   "cell_type": "code",
   "execution_count": 1,
   "id": "earlier-economics",
   "metadata": {
    "_cell_guid": "b1076dfc-b9ad-4769-8c92-a6c4dae69d19",
    "_uuid": "8f2839f25d086af736a60e9eeb907d3b93b6e0e5",
    "execution": {
     "iopub.execute_input": "2021-04-18T13:49:02.783493Z",
     "iopub.status.busy": "2021-04-18T13:49:02.782699Z",
     "iopub.status.idle": "2021-04-18T13:49:02.786816Z",
     "shell.execute_reply": "2021-04-18T13:49:02.786328Z"
    },
    "papermill": {
     "duration": 0.035282,
     "end_time": "2021-04-18T13:49:02.786950",
     "exception": false,
     "start_time": "2021-04-18T13:49:02.751668",
     "status": "completed"
    },
    "tags": []
   },
   "outputs": [],
   "source": [
    "import numpy as np\n",
    "import pandas as pd\n",
    "import random, copy\n",
    "import os"
   ]
  },
  {
   "cell_type": "code",
   "execution_count": 2,
   "id": "affiliated-innocent",
   "metadata": {
    "execution": {
     "iopub.execute_input": "2021-04-18T13:49:02.843168Z",
     "iopub.status.busy": "2021-04-18T13:49:02.842626Z",
     "iopub.status.idle": "2021-04-18T13:49:07.629316Z",
     "shell.execute_reply": "2021-04-18T13:49:07.628267Z"
    },
    "papermill": {
     "duration": 4.815472,
     "end_time": "2021-04-18T13:49:07.629451",
     "exception": false,
     "start_time": "2021-04-18T13:49:02.813979",
     "status": "completed"
    },
    "tags": []
   },
   "outputs": [],
   "source": [
    "from sklearn.utils import shuffle\n",
    "import keras\n",
    "import tensorflow as tf\n",
    "from sklearn import preprocessing"
   ]
  },
  {
   "cell_type": "code",
   "execution_count": 3,
   "id": "legendary-cholesterol",
   "metadata": {
    "execution": {
     "iopub.execute_input": "2021-04-18T13:49:07.689513Z",
     "iopub.status.busy": "2021-04-18T13:49:07.688965Z",
     "iopub.status.idle": "2021-04-18T13:49:17.243781Z",
     "shell.execute_reply": "2021-04-18T13:49:17.243226Z"
    },
    "papermill": {
     "duration": 9.588297,
     "end_time": "2021-04-18T13:49:17.243929",
     "exception": false,
     "start_time": "2021-04-18T13:49:07.655632",
     "status": "completed"
    },
    "tags": []
   },
   "outputs": [
    {
     "data": {
      "text/plain": [
       "array([ 9.,  1.,  5.,  2.,  3.,  4.,  0., 10.,  6.])"
      ]
     },
     "execution_count": 3,
     "metadata": {},
     "output_type": "execute_result"
    }
   ],
   "source": [
    "df = pd.read_csv(\"../input/induction-motor-multi-csv-files/combined_data_new.csv\")\n",
    "df[\"Label\"].unique()"
   ]
  },
  {
   "cell_type": "code",
   "execution_count": 4,
   "id": "educated-equilibrium",
   "metadata": {
    "execution": {
     "iopub.execute_input": "2021-04-18T13:49:17.316125Z",
     "iopub.status.busy": "2021-04-18T13:49:17.315213Z",
     "iopub.status.idle": "2021-04-18T13:49:17.320043Z",
     "shell.execute_reply": "2021-04-18T13:49:17.319556Z"
    },
    "papermill": {
     "duration": 0.041133,
     "end_time": "2021-04-18T13:49:17.320174",
     "exception": false,
     "start_time": "2021-04-18T13:49:17.279041",
     "status": "completed"
    },
    "tags": []
   },
   "outputs": [
    {
     "data": {
      "text/plain": [
       "X_Value            0.000000\n",
       "Acceleration      -5.351819\n",
       "Acceleration_0     0.740582\n",
       "Acceleration_1     8.295304\n",
       "Voltage           -0.073965\n",
       "Voltage_0         -0.435938\n",
       "Voltage_1          0.510923\n",
       "Voltage_2          0.000558\n",
       "Voltage_3          0.187400\n",
       "Label              9.000000\n",
       "Speed             35.000000\n",
       "Name: 0, dtype: float64"
      ]
     },
     "execution_count": 4,
     "metadata": {},
     "output_type": "execute_result"
    }
   ],
   "source": [
    "df.iloc[0]"
   ]
  },
  {
   "cell_type": "code",
   "execution_count": 5,
   "id": "mobile-anatomy",
   "metadata": {
    "execution": {
     "iopub.execute_input": "2021-04-18T13:49:17.392974Z",
     "iopub.status.busy": "2021-04-18T13:49:17.392400Z",
     "iopub.status.idle": "2021-04-18T13:49:17.407108Z",
     "shell.execute_reply": "2021-04-18T13:49:17.406550Z"
    },
    "papermill": {
     "duration": 0.058217,
     "end_time": "2021-04-18T13:49:17.407241",
     "exception": false,
     "start_time": "2021-04-18T13:49:17.349024",
     "status": "completed"
    },
    "tags": []
   },
   "outputs": [
    {
     "data": {
      "text/html": [
       "<div>\n",
       "<style scoped>\n",
       "    .dataframe tbody tr th:only-of-type {\n",
       "        vertical-align: middle;\n",
       "    }\n",
       "\n",
       "    .dataframe tbody tr th {\n",
       "        vertical-align: top;\n",
       "    }\n",
       "\n",
       "    .dataframe thead th {\n",
       "        text-align: right;\n",
       "    }\n",
       "</style>\n",
       "<table border=\"1\" class=\"dataframe\">\n",
       "  <thead>\n",
       "    <tr style=\"text-align: right;\">\n",
       "      <th></th>\n",
       "      <th>X_Value</th>\n",
       "      <th>Acceleration</th>\n",
       "      <th>Acceleration_0</th>\n",
       "      <th>Acceleration_1</th>\n",
       "      <th>Voltage</th>\n",
       "      <th>Voltage_0</th>\n",
       "      <th>Voltage_1</th>\n",
       "      <th>Voltage_2</th>\n",
       "      <th>Voltage_3</th>\n",
       "      <th>Label</th>\n",
       "      <th>Speed</th>\n",
       "    </tr>\n",
       "  </thead>\n",
       "  <tbody>\n",
       "    <tr>\n",
       "      <th>0</th>\n",
       "      <td>0.00000</td>\n",
       "      <td>-5.351819</td>\n",
       "      <td>0.740582</td>\n",
       "      <td>8.295304</td>\n",
       "      <td>-0.073965</td>\n",
       "      <td>-0.435938</td>\n",
       "      <td>0.510923</td>\n",
       "      <td>0.000558</td>\n",
       "      <td>0.187400</td>\n",
       "      <td>9.0</td>\n",
       "      <td>35.0</td>\n",
       "    </tr>\n",
       "    <tr>\n",
       "      <th>1</th>\n",
       "      <td>0.00005</td>\n",
       "      <td>-4.234766</td>\n",
       "      <td>1.739646</td>\n",
       "      <td>9.915628</td>\n",
       "      <td>-0.078768</td>\n",
       "      <td>-0.442555</td>\n",
       "      <td>0.518180</td>\n",
       "      <td>0.000568</td>\n",
       "      <td>-0.171936</td>\n",
       "      <td>9.0</td>\n",
       "      <td>35.0</td>\n",
       "    </tr>\n",
       "    <tr>\n",
       "      <th>2</th>\n",
       "      <td>0.00010</td>\n",
       "      <td>-4.241035</td>\n",
       "      <td>-0.400662</td>\n",
       "      <td>4.644429</td>\n",
       "      <td>-0.077888</td>\n",
       "      <td>-0.434361</td>\n",
       "      <td>0.513546</td>\n",
       "      <td>0.000554</td>\n",
       "      <td>-0.182503</td>\n",
       "      <td>9.0</td>\n",
       "      <td>35.0</td>\n",
       "    </tr>\n",
       "    <tr>\n",
       "      <th>3</th>\n",
       "      <td>0.00015</td>\n",
       "      <td>-2.607558</td>\n",
       "      <td>-0.598338</td>\n",
       "      <td>1.464432</td>\n",
       "      <td>-0.084278</td>\n",
       "      <td>-0.440163</td>\n",
       "      <td>0.521092</td>\n",
       "      <td>0.000592</td>\n",
       "      <td>-0.020186</td>\n",
       "      <td>9.0</td>\n",
       "      <td>35.0</td>\n",
       "    </tr>\n",
       "    <tr>\n",
       "      <th>4</th>\n",
       "      <td>0.00020</td>\n",
       "      <td>-3.243099</td>\n",
       "      <td>-1.413354</td>\n",
       "      <td>-1.211480</td>\n",
       "      <td>-0.082729</td>\n",
       "      <td>-0.432257</td>\n",
       "      <td>0.516258</td>\n",
       "      <td>0.000537</td>\n",
       "      <td>-0.022895</td>\n",
       "      <td>9.0</td>\n",
       "      <td>35.0</td>\n",
       "    </tr>\n",
       "    <tr>\n",
       "      <th>...</th>\n",
       "      <td>...</td>\n",
       "      <td>...</td>\n",
       "      <td>...</td>\n",
       "      <td>...</td>\n",
       "      <td>...</td>\n",
       "      <td>...</td>\n",
       "      <td>...</td>\n",
       "      <td>...</td>\n",
       "      <td>...</td>\n",
       "      <td>...</td>\n",
       "      <td>...</td>\n",
       "    </tr>\n",
       "    <tr>\n",
       "      <th>3719295</th>\n",
       "      <td>29.90475</td>\n",
       "      <td>-0.172585</td>\n",
       "      <td>-1.122119</td>\n",
       "      <td>-2.568856</td>\n",
       "      <td>0.129924</td>\n",
       "      <td>-0.215732</td>\n",
       "      <td>0.082520</td>\n",
       "      <td>-0.000397</td>\n",
       "      <td>-0.193148</td>\n",
       "      <td>5.0</td>\n",
       "      <td>25.0</td>\n",
       "    </tr>\n",
       "    <tr>\n",
       "      <th>3719296</th>\n",
       "      <td>29.90480</td>\n",
       "      <td>0.501556</td>\n",
       "      <td>-1.841121</td>\n",
       "      <td>-3.171822</td>\n",
       "      <td>0.130463</td>\n",
       "      <td>-0.218068</td>\n",
       "      <td>0.089042</td>\n",
       "      <td>-0.000500</td>\n",
       "      <td>-0.027359</td>\n",
       "      <td>5.0</td>\n",
       "      <td>25.0</td>\n",
       "    </tr>\n",
       "    <tr>\n",
       "      <th>3719297</th>\n",
       "      <td>29.90485</td>\n",
       "      <td>1.899502</td>\n",
       "      <td>-0.382981</td>\n",
       "      <td>-1.162346</td>\n",
       "      <td>0.129154</td>\n",
       "      <td>-0.216884</td>\n",
       "      <td>0.086343</td>\n",
       "      <td>-0.000420</td>\n",
       "      <td>-0.030208</td>\n",
       "      <td>5.0</td>\n",
       "      <td>25.0</td>\n",
       "    </tr>\n",
       "    <tr>\n",
       "      <th>3719298</th>\n",
       "      <td>29.90490</td>\n",
       "      <td>0.161535</td>\n",
       "      <td>-1.047591</td>\n",
       "      <td>-0.886533</td>\n",
       "      <td>0.128612</td>\n",
       "      <td>-0.217536</td>\n",
       "      <td>0.091821</td>\n",
       "      <td>-0.000439</td>\n",
       "      <td>-0.009865</td>\n",
       "      <td>5.0</td>\n",
       "      <td>25.0</td>\n",
       "    </tr>\n",
       "    <tr>\n",
       "      <th>3719299</th>\n",
       "      <td>29.90495</td>\n",
       "      <td>1.798824</td>\n",
       "      <td>1.032677</td>\n",
       "      <td>0.530148</td>\n",
       "      <td>0.125695</td>\n",
       "      <td>-0.218831</td>\n",
       "      <td>0.090628</td>\n",
       "      <td>-0.000416</td>\n",
       "      <td>0.226535</td>\n",
       "      <td>5.0</td>\n",
       "      <td>25.0</td>\n",
       "    </tr>\n",
       "  </tbody>\n",
       "</table>\n",
       "<p>3719300 rows × 11 columns</p>\n",
       "</div>"
      ],
      "text/plain": [
       "          X_Value  Acceleration  Acceleration_0  Acceleration_1   Voltage  \\\n",
       "0         0.00000     -5.351819        0.740582        8.295304 -0.073965   \n",
       "1         0.00005     -4.234766        1.739646        9.915628 -0.078768   \n",
       "2         0.00010     -4.241035       -0.400662        4.644429 -0.077888   \n",
       "3         0.00015     -2.607558       -0.598338        1.464432 -0.084278   \n",
       "4         0.00020     -3.243099       -1.413354       -1.211480 -0.082729   \n",
       "...           ...           ...             ...             ...       ...   \n",
       "3719295  29.90475     -0.172585       -1.122119       -2.568856  0.129924   \n",
       "3719296  29.90480      0.501556       -1.841121       -3.171822  0.130463   \n",
       "3719297  29.90485      1.899502       -0.382981       -1.162346  0.129154   \n",
       "3719298  29.90490      0.161535       -1.047591       -0.886533  0.128612   \n",
       "3719299  29.90495      1.798824        1.032677        0.530148  0.125695   \n",
       "\n",
       "         Voltage_0  Voltage_1  Voltage_2  Voltage_3  Label  Speed  \n",
       "0        -0.435938   0.510923   0.000558   0.187400    9.0   35.0  \n",
       "1        -0.442555   0.518180   0.000568  -0.171936    9.0   35.0  \n",
       "2        -0.434361   0.513546   0.000554  -0.182503    9.0   35.0  \n",
       "3        -0.440163   0.521092   0.000592  -0.020186    9.0   35.0  \n",
       "4        -0.432257   0.516258   0.000537  -0.022895    9.0   35.0  \n",
       "...            ...        ...        ...        ...    ...    ...  \n",
       "3719295  -0.215732   0.082520  -0.000397  -0.193148    5.0   25.0  \n",
       "3719296  -0.218068   0.089042  -0.000500  -0.027359    5.0   25.0  \n",
       "3719297  -0.216884   0.086343  -0.000420  -0.030208    5.0   25.0  \n",
       "3719298  -0.217536   0.091821  -0.000439  -0.009865    5.0   25.0  \n",
       "3719299  -0.218831   0.090628  -0.000416   0.226535    5.0   25.0  \n",
       "\n",
       "[3719300 rows x 11 columns]"
      ]
     },
     "execution_count": 5,
     "metadata": {},
     "output_type": "execute_result"
    }
   ],
   "source": [
    "rows = len(df)\n",
    "cols = len(df.iloc[0])\n",
    "col_names = ['X_Value', 'Acceleration', 'Acceleration_0', 'Acceleration_1', 'Voltage', 'Voltage_0', 'Voltage_1',\n",
    "             'Voltage_2', 'Voltage_3', 'Label', 'Speed']\n",
    "df"
   ]
  },
  {
   "cell_type": "code",
   "execution_count": 6,
   "id": "surrounded-backup",
   "metadata": {
    "execution": {
     "iopub.execute_input": "2021-04-18T13:49:17.474662Z",
     "iopub.status.busy": "2021-04-18T13:49:17.473282Z",
     "iopub.status.idle": "2021-04-18T13:49:17.475710Z",
     "shell.execute_reply": "2021-04-18T13:49:17.476171Z"
    },
    "papermill": {
     "duration": 0.037282,
     "end_time": "2021-04-18T13:49:17.476286",
     "exception": false,
     "start_time": "2021-04-18T13:49:17.439004",
     "status": "completed"
    },
    "tags": []
   },
   "outputs": [],
   "source": [
    "data_mat = []"
   ]
  },
  {
   "cell_type": "code",
   "execution_count": 7,
   "id": "natural-partnership",
   "metadata": {
    "execution": {
     "iopub.execute_input": "2021-04-18T13:49:17.566324Z",
     "iopub.status.busy": "2021-04-18T13:49:17.545816Z",
     "iopub.status.idle": "2021-04-18T13:49:18.866547Z",
     "shell.execute_reply": "2021-04-18T13:49:18.865838Z"
    },
    "papermill": {
     "duration": 1.36221,
     "end_time": "2021-04-18T13:49:18.866686",
     "exception": false,
     "start_time": "2021-04-18T13:49:17.504476",
     "status": "completed"
    },
    "tags": []
   },
   "outputs": [],
   "source": [
    "k=0\n",
    "L = rows/100\n",
    "for i in range(int(L)):\n",
    "    k=i*100\n",
    "    data_mat.append(df.iloc[k:k+100])"
   ]
  },
  {
   "cell_type": "code",
   "execution_count": 8,
   "id": "missing-shareware",
   "metadata": {
    "execution": {
     "iopub.execute_input": "2021-04-18T13:49:18.988666Z",
     "iopub.status.busy": "2021-04-18T13:49:18.975704Z",
     "iopub.status.idle": "2021-04-18T13:49:19.002593Z",
     "shell.execute_reply": "2021-04-18T13:49:19.003447Z"
    },
    "papermill": {
     "duration": 0.085903,
     "end_time": "2021-04-18T13:49:19.003662",
     "exception": false,
     "start_time": "2021-04-18T13:49:18.917759",
     "status": "completed"
    },
    "tags": []
   },
   "outputs": [
    {
     "name": "stdout",
     "output_type": "stream",
     "text": [
      "37193\n"
     ]
    },
    {
     "data": {
      "text/html": [
       "<div>\n",
       "<style scoped>\n",
       "    .dataframe tbody tr th:only-of-type {\n",
       "        vertical-align: middle;\n",
       "    }\n",
       "\n",
       "    .dataframe tbody tr th {\n",
       "        vertical-align: top;\n",
       "    }\n",
       "\n",
       "    .dataframe thead th {\n",
       "        text-align: right;\n",
       "    }\n",
       "</style>\n",
       "<table border=\"1\" class=\"dataframe\">\n",
       "  <thead>\n",
       "    <tr style=\"text-align: right;\">\n",
       "      <th></th>\n",
       "      <th>X_Value</th>\n",
       "      <th>Acceleration</th>\n",
       "      <th>Acceleration_0</th>\n",
       "      <th>Acceleration_1</th>\n",
       "      <th>Voltage</th>\n",
       "      <th>Voltage_0</th>\n",
       "      <th>Voltage_1</th>\n",
       "      <th>Voltage_2</th>\n",
       "      <th>Voltage_3</th>\n",
       "      <th>Label</th>\n",
       "      <th>Speed</th>\n",
       "    </tr>\n",
       "  </thead>\n",
       "  <tbody>\n",
       "    <tr>\n",
       "      <th>0</th>\n",
       "      <td>0.00000</td>\n",
       "      <td>-5.351819</td>\n",
       "      <td>0.740582</td>\n",
       "      <td>8.295304</td>\n",
       "      <td>-0.073965</td>\n",
       "      <td>-0.435938</td>\n",
       "      <td>0.510923</td>\n",
       "      <td>0.000558</td>\n",
       "      <td>0.187400</td>\n",
       "      <td>9.0</td>\n",
       "      <td>35.0</td>\n",
       "    </tr>\n",
       "    <tr>\n",
       "      <th>1</th>\n",
       "      <td>0.00005</td>\n",
       "      <td>-4.234766</td>\n",
       "      <td>1.739646</td>\n",
       "      <td>9.915628</td>\n",
       "      <td>-0.078768</td>\n",
       "      <td>-0.442555</td>\n",
       "      <td>0.518180</td>\n",
       "      <td>0.000568</td>\n",
       "      <td>-0.171936</td>\n",
       "      <td>9.0</td>\n",
       "      <td>35.0</td>\n",
       "    </tr>\n",
       "    <tr>\n",
       "      <th>2</th>\n",
       "      <td>0.00010</td>\n",
       "      <td>-4.241035</td>\n",
       "      <td>-0.400662</td>\n",
       "      <td>4.644429</td>\n",
       "      <td>-0.077888</td>\n",
       "      <td>-0.434361</td>\n",
       "      <td>0.513546</td>\n",
       "      <td>0.000554</td>\n",
       "      <td>-0.182503</td>\n",
       "      <td>9.0</td>\n",
       "      <td>35.0</td>\n",
       "    </tr>\n",
       "    <tr>\n",
       "      <th>3</th>\n",
       "      <td>0.00015</td>\n",
       "      <td>-2.607558</td>\n",
       "      <td>-0.598338</td>\n",
       "      <td>1.464432</td>\n",
       "      <td>-0.084278</td>\n",
       "      <td>-0.440163</td>\n",
       "      <td>0.521092</td>\n",
       "      <td>0.000592</td>\n",
       "      <td>-0.020186</td>\n",
       "      <td>9.0</td>\n",
       "      <td>35.0</td>\n",
       "    </tr>\n",
       "    <tr>\n",
       "      <th>4</th>\n",
       "      <td>0.00020</td>\n",
       "      <td>-3.243099</td>\n",
       "      <td>-1.413354</td>\n",
       "      <td>-1.211480</td>\n",
       "      <td>-0.082729</td>\n",
       "      <td>-0.432257</td>\n",
       "      <td>0.516258</td>\n",
       "      <td>0.000537</td>\n",
       "      <td>-0.022895</td>\n",
       "      <td>9.0</td>\n",
       "      <td>35.0</td>\n",
       "    </tr>\n",
       "    <tr>\n",
       "      <th>...</th>\n",
       "      <td>...</td>\n",
       "      <td>...</td>\n",
       "      <td>...</td>\n",
       "      <td>...</td>\n",
       "      <td>...</td>\n",
       "      <td>...</td>\n",
       "      <td>...</td>\n",
       "      <td>...</td>\n",
       "      <td>...</td>\n",
       "      <td>...</td>\n",
       "      <td>...</td>\n",
       "    </tr>\n",
       "    <tr>\n",
       "      <th>95</th>\n",
       "      <td>0.00475</td>\n",
       "      <td>0.436281</td>\n",
       "      <td>-0.069400</td>\n",
       "      <td>3.124211</td>\n",
       "      <td>-0.236546</td>\n",
       "      <td>-0.150201</td>\n",
       "      <td>0.385401</td>\n",
       "      <td>0.000526</td>\n",
       "      <td>-0.017473</td>\n",
       "      <td>9.0</td>\n",
       "      <td>35.0</td>\n",
       "    </tr>\n",
       "    <tr>\n",
       "      <th>96</th>\n",
       "      <td>0.00480</td>\n",
       "      <td>0.198291</td>\n",
       "      <td>0.118823</td>\n",
       "      <td>4.801021</td>\n",
       "      <td>-0.240716</td>\n",
       "      <td>-0.145455</td>\n",
       "      <td>0.384172</td>\n",
       "      <td>0.000523</td>\n",
       "      <td>-0.062727</td>\n",
       "      <td>9.0</td>\n",
       "      <td>35.0</td>\n",
       "    </tr>\n",
       "    <tr>\n",
       "      <th>97</th>\n",
       "      <td>0.00485</td>\n",
       "      <td>0.444640</td>\n",
       "      <td>1.853832</td>\n",
       "      <td>7.944993</td>\n",
       "      <td>-0.235219</td>\n",
       "      <td>-0.143930</td>\n",
       "      <td>0.378396</td>\n",
       "      <td>0.000500</td>\n",
       "      <td>-0.000724</td>\n",
       "      <td>9.0</td>\n",
       "      <td>35.0</td>\n",
       "    </tr>\n",
       "    <tr>\n",
       "      <th>98</th>\n",
       "      <td>0.00490</td>\n",
       "      <td>0.039345</td>\n",
       "      <td>2.547296</td>\n",
       "      <td>8.979384</td>\n",
       "      <td>-0.239397</td>\n",
       "      <td>-0.139089</td>\n",
       "      <td>0.375958</td>\n",
       "      <td>0.000509</td>\n",
       "      <td>0.082752</td>\n",
       "      <td>9.0</td>\n",
       "      <td>35.0</td>\n",
       "    </tr>\n",
       "    <tr>\n",
       "      <th>99</th>\n",
       "      <td>0.00495</td>\n",
       "      <td>1.356894</td>\n",
       "      <td>3.948588</td>\n",
       "      <td>9.126419</td>\n",
       "      <td>-0.233370</td>\n",
       "      <td>-0.136359</td>\n",
       "      <td>0.369121</td>\n",
       "      <td>0.000551</td>\n",
       "      <td>0.049778</td>\n",
       "      <td>9.0</td>\n",
       "      <td>35.0</td>\n",
       "    </tr>\n",
       "  </tbody>\n",
       "</table>\n",
       "<p>100 rows × 11 columns</p>\n",
       "</div>"
      ],
      "text/plain": [
       "    X_Value  Acceleration  Acceleration_0  Acceleration_1   Voltage  \\\n",
       "0   0.00000     -5.351819        0.740582        8.295304 -0.073965   \n",
       "1   0.00005     -4.234766        1.739646        9.915628 -0.078768   \n",
       "2   0.00010     -4.241035       -0.400662        4.644429 -0.077888   \n",
       "3   0.00015     -2.607558       -0.598338        1.464432 -0.084278   \n",
       "4   0.00020     -3.243099       -1.413354       -1.211480 -0.082729   \n",
       "..      ...           ...             ...             ...       ...   \n",
       "95  0.00475      0.436281       -0.069400        3.124211 -0.236546   \n",
       "96  0.00480      0.198291        0.118823        4.801021 -0.240716   \n",
       "97  0.00485      0.444640        1.853832        7.944993 -0.235219   \n",
       "98  0.00490      0.039345        2.547296        8.979384 -0.239397   \n",
       "99  0.00495      1.356894        3.948588        9.126419 -0.233370   \n",
       "\n",
       "    Voltage_0  Voltage_1  Voltage_2  Voltage_3  Label  Speed  \n",
       "0   -0.435938   0.510923   0.000558   0.187400    9.0   35.0  \n",
       "1   -0.442555   0.518180   0.000568  -0.171936    9.0   35.0  \n",
       "2   -0.434361   0.513546   0.000554  -0.182503    9.0   35.0  \n",
       "3   -0.440163   0.521092   0.000592  -0.020186    9.0   35.0  \n",
       "4   -0.432257   0.516258   0.000537  -0.022895    9.0   35.0  \n",
       "..        ...        ...        ...        ...    ...    ...  \n",
       "95  -0.150201   0.385401   0.000526  -0.017473    9.0   35.0  \n",
       "96  -0.145455   0.384172   0.000523  -0.062727    9.0   35.0  \n",
       "97  -0.143930   0.378396   0.000500  -0.000724    9.0   35.0  \n",
       "98  -0.139089   0.375958   0.000509   0.082752    9.0   35.0  \n",
       "99  -0.136359   0.369121   0.000551   0.049778    9.0   35.0  \n",
       "\n",
       "[100 rows x 11 columns]"
      ]
     },
     "execution_count": 8,
     "metadata": {},
     "output_type": "execute_result"
    }
   ],
   "source": [
    "print(len(data_mat))\n",
    "data_mat[0]"
   ]
  },
  {
   "cell_type": "code",
   "execution_count": 9,
   "id": "british-tradition",
   "metadata": {
    "execution": {
     "iopub.execute_input": "2021-04-18T13:49:19.136947Z",
     "iopub.status.busy": "2021-04-18T13:49:19.116583Z",
     "iopub.status.idle": "2021-04-18T13:49:19.191356Z",
     "shell.execute_reply": "2021-04-18T13:49:19.192290Z"
    },
    "papermill": {
     "duration": 0.137552,
     "end_time": "2021-04-18T13:49:19.192485",
     "exception": false,
     "start_time": "2021-04-18T13:49:19.054933",
     "status": "completed"
    },
    "tags": []
   },
   "outputs": [
    {
     "data": {
      "text/html": [
       "<div>\n",
       "<style scoped>\n",
       "    .dataframe tbody tr th:only-of-type {\n",
       "        vertical-align: middle;\n",
       "    }\n",
       "\n",
       "    .dataframe tbody tr th {\n",
       "        vertical-align: top;\n",
       "    }\n",
       "\n",
       "    .dataframe thead th {\n",
       "        text-align: right;\n",
       "    }\n",
       "</style>\n",
       "<table border=\"1\" class=\"dataframe\">\n",
       "  <thead>\n",
       "    <tr style=\"text-align: right;\">\n",
       "      <th></th>\n",
       "      <th>X_Value</th>\n",
       "      <th>Acceleration</th>\n",
       "      <th>Acceleration_0</th>\n",
       "      <th>Acceleration_1</th>\n",
       "      <th>Voltage</th>\n",
       "      <th>Voltage_0</th>\n",
       "      <th>Voltage_1</th>\n",
       "      <th>Voltage_2</th>\n",
       "      <th>Voltage_3</th>\n",
       "      <th>Label</th>\n",
       "      <th>Speed</th>\n",
       "    </tr>\n",
       "  </thead>\n",
       "  <tbody>\n",
       "    <tr>\n",
       "      <th>527300</th>\n",
       "      <td>23.65000</td>\n",
       "      <td>1.229663</td>\n",
       "      <td>3.410319</td>\n",
       "      <td>1.591127</td>\n",
       "      <td>-0.065556</td>\n",
       "      <td>0.218967</td>\n",
       "      <td>-0.154621</td>\n",
       "      <td>0.000671</td>\n",
       "      <td>-0.111209</td>\n",
       "      <td>6.0</td>\n",
       "      <td>35.0</td>\n",
       "    </tr>\n",
       "    <tr>\n",
       "      <th>527301</th>\n",
       "      <td>23.65005</td>\n",
       "      <td>1.675403</td>\n",
       "      <td>4.874599</td>\n",
       "      <td>0.869431</td>\n",
       "      <td>-0.063080</td>\n",
       "      <td>0.216533</td>\n",
       "      <td>-0.156361</td>\n",
       "      <td>0.000651</td>\n",
       "      <td>-0.219664</td>\n",
       "      <td>6.0</td>\n",
       "      <td>35.0</td>\n",
       "    </tr>\n",
       "    <tr>\n",
       "      <th>527302</th>\n",
       "      <td>23.65010</td>\n",
       "      <td>1.509326</td>\n",
       "      <td>5.053244</td>\n",
       "      <td>1.155046</td>\n",
       "      <td>-0.060773</td>\n",
       "      <td>0.219026</td>\n",
       "      <td>-0.159176</td>\n",
       "      <td>0.000594</td>\n",
       "      <td>-0.015798</td>\n",
       "      <td>6.0</td>\n",
       "      <td>35.0</td>\n",
       "    </tr>\n",
       "    <tr>\n",
       "      <th>527303</th>\n",
       "      <td>23.65015</td>\n",
       "      <td>1.625740</td>\n",
       "      <td>4.456776</td>\n",
       "      <td>2.029168</td>\n",
       "      <td>-0.058248</td>\n",
       "      <td>0.215902</td>\n",
       "      <td>-0.160854</td>\n",
       "      <td>0.000641</td>\n",
       "      <td>-0.283504</td>\n",
       "      <td>6.0</td>\n",
       "      <td>35.0</td>\n",
       "    </tr>\n",
       "    <tr>\n",
       "      <th>527304</th>\n",
       "      <td>23.65020</td>\n",
       "      <td>0.792528</td>\n",
       "      <td>2.932335</td>\n",
       "      <td>1.580712</td>\n",
       "      <td>-0.055720</td>\n",
       "      <td>0.218723</td>\n",
       "      <td>-0.163708</td>\n",
       "      <td>0.000576</td>\n",
       "      <td>-0.168289</td>\n",
       "      <td>6.0</td>\n",
       "      <td>35.0</td>\n",
       "    </tr>\n",
       "    <tr>\n",
       "      <th>...</th>\n",
       "      <td>...</td>\n",
       "      <td>...</td>\n",
       "      <td>...</td>\n",
       "      <td>...</td>\n",
       "      <td>...</td>\n",
       "      <td>...</td>\n",
       "      <td>...</td>\n",
       "      <td>...</td>\n",
       "      <td>...</td>\n",
       "      <td>...</td>\n",
       "      <td>...</td>\n",
       "    </tr>\n",
       "    <tr>\n",
       "      <th>527395</th>\n",
       "      <td>23.65475</td>\n",
       "      <td>1.315467</td>\n",
       "      <td>7.127127</td>\n",
       "      <td>5.059434</td>\n",
       "      <td>0.170671</td>\n",
       "      <td>0.060016</td>\n",
       "      <td>-0.231309</td>\n",
       "      <td>0.000665</td>\n",
       "      <td>-0.002886</td>\n",
       "      <td>6.0</td>\n",
       "      <td>35.0</td>\n",
       "    </tr>\n",
       "    <tr>\n",
       "      <th>527396</th>\n",
       "      <td>23.65480</td>\n",
       "      <td>0.441444</td>\n",
       "      <td>2.595426</td>\n",
       "      <td>1.330875</td>\n",
       "      <td>0.168658</td>\n",
       "      <td>0.059383</td>\n",
       "      <td>-0.229970</td>\n",
       "      <td>0.000616</td>\n",
       "      <td>0.472502</td>\n",
       "      <td>6.0</td>\n",
       "      <td>35.0</td>\n",
       "    </tr>\n",
       "    <tr>\n",
       "      <th>527397</th>\n",
       "      <td>23.65485</td>\n",
       "      <td>-1.295171</td>\n",
       "      <td>-2.652332</td>\n",
       "      <td>-1.728797</td>\n",
       "      <td>0.172850</td>\n",
       "      <td>0.055582</td>\n",
       "      <td>-0.230160</td>\n",
       "      <td>0.000574</td>\n",
       "      <td>-0.308093</td>\n",
       "      <td>6.0</td>\n",
       "      <td>35.0</td>\n",
       "    </tr>\n",
       "    <tr>\n",
       "      <th>527398</th>\n",
       "      <td>23.65490</td>\n",
       "      <td>-0.437373</td>\n",
       "      <td>-3.378945</td>\n",
       "      <td>-1.192121</td>\n",
       "      <td>0.171806</td>\n",
       "      <td>0.054826</td>\n",
       "      <td>-0.228166</td>\n",
       "      <td>0.000633</td>\n",
       "      <td>0.128132</td>\n",
       "      <td>6.0</td>\n",
       "      <td>35.0</td>\n",
       "    </tr>\n",
       "    <tr>\n",
       "      <th>527399</th>\n",
       "      <td>23.65495</td>\n",
       "      <td>0.801010</td>\n",
       "      <td>-1.053116</td>\n",
       "      <td>1.692458</td>\n",
       "      <td>0.176156</td>\n",
       "      <td>0.050487</td>\n",
       "      <td>-0.227819</td>\n",
       "      <td>0.000595</td>\n",
       "      <td>0.426355</td>\n",
       "      <td>6.0</td>\n",
       "      <td>35.0</td>\n",
       "    </tr>\n",
       "  </tbody>\n",
       "</table>\n",
       "<p>100 rows × 11 columns</p>\n",
       "</div>"
      ],
      "text/plain": [
       "         X_Value  Acceleration  Acceleration_0  Acceleration_1   Voltage  \\\n",
       "527300  23.65000      1.229663        3.410319        1.591127 -0.065556   \n",
       "527301  23.65005      1.675403        4.874599        0.869431 -0.063080   \n",
       "527302  23.65010      1.509326        5.053244        1.155046 -0.060773   \n",
       "527303  23.65015      1.625740        4.456776        2.029168 -0.058248   \n",
       "527304  23.65020      0.792528        2.932335        1.580712 -0.055720   \n",
       "...          ...           ...             ...             ...       ...   \n",
       "527395  23.65475      1.315467        7.127127        5.059434  0.170671   \n",
       "527396  23.65480      0.441444        2.595426        1.330875  0.168658   \n",
       "527397  23.65485     -1.295171       -2.652332       -1.728797  0.172850   \n",
       "527398  23.65490     -0.437373       -3.378945       -1.192121  0.171806   \n",
       "527399  23.65495      0.801010       -1.053116        1.692458  0.176156   \n",
       "\n",
       "        Voltage_0  Voltage_1  Voltage_2  Voltage_3  Label  Speed  \n",
       "527300   0.218967  -0.154621   0.000671  -0.111209    6.0   35.0  \n",
       "527301   0.216533  -0.156361   0.000651  -0.219664    6.0   35.0  \n",
       "527302   0.219026  -0.159176   0.000594  -0.015798    6.0   35.0  \n",
       "527303   0.215902  -0.160854   0.000641  -0.283504    6.0   35.0  \n",
       "527304   0.218723  -0.163708   0.000576  -0.168289    6.0   35.0  \n",
       "...           ...        ...        ...        ...    ...    ...  \n",
       "527395   0.060016  -0.231309   0.000665  -0.002886    6.0   35.0  \n",
       "527396   0.059383  -0.229970   0.000616   0.472502    6.0   35.0  \n",
       "527397   0.055582  -0.230160   0.000574  -0.308093    6.0   35.0  \n",
       "527398   0.054826  -0.228166   0.000633   0.128132    6.0   35.0  \n",
       "527399   0.050487  -0.227819   0.000595   0.426355    6.0   35.0  \n",
       "\n",
       "[100 rows x 11 columns]"
      ]
     },
     "execution_count": 9,
     "metadata": {},
     "output_type": "execute_result"
    }
   ],
   "source": [
    "random.shuffle(data_mat)\n",
    "data_mat[0]"
   ]
  },
  {
   "cell_type": "code",
   "execution_count": 10,
   "id": "owned-formula",
   "metadata": {
    "execution": {
     "iopub.execute_input": "2021-04-18T13:49:19.302474Z",
     "iopub.status.busy": "2021-04-18T13:49:19.301644Z",
     "iopub.status.idle": "2021-04-18T13:49:22.263589Z",
     "shell.execute_reply": "2021-04-18T13:49:22.264173Z"
    },
    "papermill": {
     "duration": 3.022322,
     "end_time": "2021-04-18T13:49:22.264381",
     "exception": false,
     "start_time": "2021-04-18T13:49:19.242059",
     "status": "completed"
    },
    "tags": []
   },
   "outputs": [
    {
     "name": "stdout",
     "output_type": "stream",
     "text": [
      "[0. 1. 2. 3. 4. 5. 6. 7. 8.]\n",
      "37193 37193\n"
     ]
    }
   ],
   "source": [
    "Label_col=[]\n",
    "for i in range(len(data_mat)):\n",
    "    Label_col.append(data_mat[i].iloc[0]['Label'])\n",
    "\n",
    "for i in range(len(Label_col)):\n",
    "    if(Label_col[i]>6):\n",
    "        Label_col[i]=Label_col[i]-2\n",
    "    \n",
    "print(np.unique(Label_col))\n",
    "print(len(Label_col),len(data_mat))"
   ]
  },
  {
   "cell_type": "code",
   "execution_count": 11,
   "id": "insured-lecture",
   "metadata": {
    "_kg_hide-input": true,
    "execution": {
     "iopub.execute_input": "2021-04-18T13:49:22.329440Z",
     "iopub.status.busy": "2021-04-18T13:49:22.328780Z",
     "iopub.status.idle": "2021-04-18T13:49:22.332954Z",
     "shell.execute_reply": "2021-04-18T13:49:22.332370Z"
    },
    "papermill": {
     "duration": 0.038058,
     "end_time": "2021-04-18T13:49:22.333112",
     "exception": false,
     "start_time": "2021-04-18T13:49:22.295054",
     "status": "completed"
    },
    "tags": []
   },
   "outputs": [
    {
     "name": "stdout",
     "output_type": "stream",
     "text": [
      "2.0 2.0\n"
     ]
    }
   ],
   "source": [
    "i = random.randint(0,len(data_mat)-1)\n",
    "print(Label_col[i],data_mat[i].iloc[93]['Label'])"
   ]
  },
  {
   "cell_type": "code",
   "execution_count": 12,
   "id": "binary-button",
   "metadata": {
    "execution": {
     "iopub.execute_input": "2021-04-18T13:49:22.401017Z",
     "iopub.status.busy": "2021-04-18T13:49:22.400229Z",
     "iopub.status.idle": "2021-04-18T13:49:23.989784Z",
     "shell.execute_reply": "2021-04-18T13:49:23.989374Z"
    },
    "papermill": {
     "duration": 1.626395,
     "end_time": "2021-04-18T13:49:23.989931",
     "exception": false,
     "start_time": "2021-04-18T13:49:22.363536",
     "status": "completed"
    },
    "tags": []
   },
   "outputs": [
    {
     "data": {
      "text/html": [
       "<div>\n",
       "<style scoped>\n",
       "    .dataframe tbody tr th:only-of-type {\n",
       "        vertical-align: middle;\n",
       "    }\n",
       "\n",
       "    .dataframe tbody tr th {\n",
       "        vertical-align: top;\n",
       "    }\n",
       "\n",
       "    .dataframe thead th {\n",
       "        text-align: right;\n",
       "    }\n",
       "</style>\n",
       "<table border=\"1\" class=\"dataframe\">\n",
       "  <thead>\n",
       "    <tr style=\"text-align: right;\">\n",
       "      <th></th>\n",
       "      <th>X_Value</th>\n",
       "      <th>Acceleration</th>\n",
       "      <th>Acceleration_0</th>\n",
       "      <th>Acceleration_1</th>\n",
       "      <th>Voltage</th>\n",
       "      <th>Voltage_0</th>\n",
       "      <th>Voltage_1</th>\n",
       "      <th>Voltage_2</th>\n",
       "      <th>Voltage_3</th>\n",
       "      <th>Label</th>\n",
       "      <th>Speed</th>\n",
       "    </tr>\n",
       "  </thead>\n",
       "  <tbody>\n",
       "    <tr>\n",
       "      <th>527300</th>\n",
       "      <td>23.65000</td>\n",
       "      <td>1.229663</td>\n",
       "      <td>3.410319</td>\n",
       "      <td>1.591127</td>\n",
       "      <td>-0.065556</td>\n",
       "      <td>0.218967</td>\n",
       "      <td>-0.154621</td>\n",
       "      <td>0.000671</td>\n",
       "      <td>-0.111209</td>\n",
       "      <td>6.0</td>\n",
       "      <td>35.0</td>\n",
       "    </tr>\n",
       "    <tr>\n",
       "      <th>527301</th>\n",
       "      <td>23.65005</td>\n",
       "      <td>1.675403</td>\n",
       "      <td>4.874599</td>\n",
       "      <td>0.869431</td>\n",
       "      <td>-0.063080</td>\n",
       "      <td>0.216533</td>\n",
       "      <td>-0.156361</td>\n",
       "      <td>0.000651</td>\n",
       "      <td>-0.219664</td>\n",
       "      <td>6.0</td>\n",
       "      <td>35.0</td>\n",
       "    </tr>\n",
       "    <tr>\n",
       "      <th>527302</th>\n",
       "      <td>23.65010</td>\n",
       "      <td>1.509326</td>\n",
       "      <td>5.053244</td>\n",
       "      <td>1.155046</td>\n",
       "      <td>-0.060773</td>\n",
       "      <td>0.219026</td>\n",
       "      <td>-0.159176</td>\n",
       "      <td>0.000594</td>\n",
       "      <td>-0.015798</td>\n",
       "      <td>6.0</td>\n",
       "      <td>35.0</td>\n",
       "    </tr>\n",
       "    <tr>\n",
       "      <th>527303</th>\n",
       "      <td>23.65015</td>\n",
       "      <td>1.625740</td>\n",
       "      <td>4.456776</td>\n",
       "      <td>2.029168</td>\n",
       "      <td>-0.058248</td>\n",
       "      <td>0.215902</td>\n",
       "      <td>-0.160854</td>\n",
       "      <td>0.000641</td>\n",
       "      <td>-0.283504</td>\n",
       "      <td>6.0</td>\n",
       "      <td>35.0</td>\n",
       "    </tr>\n",
       "    <tr>\n",
       "      <th>527304</th>\n",
       "      <td>23.65020</td>\n",
       "      <td>0.792528</td>\n",
       "      <td>2.932335</td>\n",
       "      <td>1.580712</td>\n",
       "      <td>-0.055720</td>\n",
       "      <td>0.218723</td>\n",
       "      <td>-0.163708</td>\n",
       "      <td>0.000576</td>\n",
       "      <td>-0.168289</td>\n",
       "      <td>6.0</td>\n",
       "      <td>35.0</td>\n",
       "    </tr>\n",
       "    <tr>\n",
       "      <th>...</th>\n",
       "      <td>...</td>\n",
       "      <td>...</td>\n",
       "      <td>...</td>\n",
       "      <td>...</td>\n",
       "      <td>...</td>\n",
       "      <td>...</td>\n",
       "      <td>...</td>\n",
       "      <td>...</td>\n",
       "      <td>...</td>\n",
       "      <td>...</td>\n",
       "      <td>...</td>\n",
       "    </tr>\n",
       "    <tr>\n",
       "      <th>527395</th>\n",
       "      <td>23.65475</td>\n",
       "      <td>1.315467</td>\n",
       "      <td>7.127127</td>\n",
       "      <td>5.059434</td>\n",
       "      <td>0.170671</td>\n",
       "      <td>0.060016</td>\n",
       "      <td>-0.231309</td>\n",
       "      <td>0.000665</td>\n",
       "      <td>-0.002886</td>\n",
       "      <td>6.0</td>\n",
       "      <td>35.0</td>\n",
       "    </tr>\n",
       "    <tr>\n",
       "      <th>527396</th>\n",
       "      <td>23.65480</td>\n",
       "      <td>0.441444</td>\n",
       "      <td>2.595426</td>\n",
       "      <td>1.330875</td>\n",
       "      <td>0.168658</td>\n",
       "      <td>0.059383</td>\n",
       "      <td>-0.229970</td>\n",
       "      <td>0.000616</td>\n",
       "      <td>0.472502</td>\n",
       "      <td>6.0</td>\n",
       "      <td>35.0</td>\n",
       "    </tr>\n",
       "    <tr>\n",
       "      <th>527397</th>\n",
       "      <td>23.65485</td>\n",
       "      <td>-1.295171</td>\n",
       "      <td>-2.652332</td>\n",
       "      <td>-1.728797</td>\n",
       "      <td>0.172850</td>\n",
       "      <td>0.055582</td>\n",
       "      <td>-0.230160</td>\n",
       "      <td>0.000574</td>\n",
       "      <td>-0.308093</td>\n",
       "      <td>6.0</td>\n",
       "      <td>35.0</td>\n",
       "    </tr>\n",
       "    <tr>\n",
       "      <th>527398</th>\n",
       "      <td>23.65490</td>\n",
       "      <td>-0.437373</td>\n",
       "      <td>-3.378945</td>\n",
       "      <td>-1.192121</td>\n",
       "      <td>0.171806</td>\n",
       "      <td>0.054826</td>\n",
       "      <td>-0.228166</td>\n",
       "      <td>0.000633</td>\n",
       "      <td>0.128132</td>\n",
       "      <td>6.0</td>\n",
       "      <td>35.0</td>\n",
       "    </tr>\n",
       "    <tr>\n",
       "      <th>527399</th>\n",
       "      <td>23.65495</td>\n",
       "      <td>0.801010</td>\n",
       "      <td>-1.053116</td>\n",
       "      <td>1.692458</td>\n",
       "      <td>0.176156</td>\n",
       "      <td>0.050487</td>\n",
       "      <td>-0.227819</td>\n",
       "      <td>0.000595</td>\n",
       "      <td>0.426355</td>\n",
       "      <td>6.0</td>\n",
       "      <td>35.0</td>\n",
       "    </tr>\n",
       "  </tbody>\n",
       "</table>\n",
       "<p>100 rows × 11 columns</p>\n",
       "</div>"
      ],
      "text/plain": [
       "         X_Value  Acceleration  Acceleration_0  Acceleration_1   Voltage  \\\n",
       "527300  23.65000      1.229663        3.410319        1.591127 -0.065556   \n",
       "527301  23.65005      1.675403        4.874599        0.869431 -0.063080   \n",
       "527302  23.65010      1.509326        5.053244        1.155046 -0.060773   \n",
       "527303  23.65015      1.625740        4.456776        2.029168 -0.058248   \n",
       "527304  23.65020      0.792528        2.932335        1.580712 -0.055720   \n",
       "...          ...           ...             ...             ...       ...   \n",
       "527395  23.65475      1.315467        7.127127        5.059434  0.170671   \n",
       "527396  23.65480      0.441444        2.595426        1.330875  0.168658   \n",
       "527397  23.65485     -1.295171       -2.652332       -1.728797  0.172850   \n",
       "527398  23.65490     -0.437373       -3.378945       -1.192121  0.171806   \n",
       "527399  23.65495      0.801010       -1.053116        1.692458  0.176156   \n",
       "\n",
       "        Voltage_0  Voltage_1  Voltage_2  Voltage_3  Label  Speed  \n",
       "527300   0.218967  -0.154621   0.000671  -0.111209    6.0   35.0  \n",
       "527301   0.216533  -0.156361   0.000651  -0.219664    6.0   35.0  \n",
       "527302   0.219026  -0.159176   0.000594  -0.015798    6.0   35.0  \n",
       "527303   0.215902  -0.160854   0.000641  -0.283504    6.0   35.0  \n",
       "527304   0.218723  -0.163708   0.000576  -0.168289    6.0   35.0  \n",
       "...           ...        ...        ...        ...    ...    ...  \n",
       "527395   0.060016  -0.231309   0.000665  -0.002886    6.0   35.0  \n",
       "527396   0.059383  -0.229970   0.000616   0.472502    6.0   35.0  \n",
       "527397   0.055582  -0.230160   0.000574  -0.308093    6.0   35.0  \n",
       "527398   0.054826  -0.228166   0.000633   0.128132    6.0   35.0  \n",
       "527399   0.050487  -0.227819   0.000595   0.426355    6.0   35.0  \n",
       "\n",
       "[100 rows x 11 columns]"
      ]
     },
     "execution_count": 12,
     "metadata": {},
     "output_type": "execute_result"
    }
   ],
   "source": [
    "data_mat_copy = copy.deepcopy(data_mat)\n",
    "data_mat_copy[0]"
   ]
  },
  {
   "cell_type": "code",
   "execution_count": 13,
   "id": "systematic-valley",
   "metadata": {
    "execution": {
     "iopub.execute_input": "2021-04-18T13:49:24.348884Z",
     "iopub.status.busy": "2021-04-18T13:49:24.345294Z",
     "iopub.status.idle": "2021-04-18T13:49:42.554614Z",
     "shell.execute_reply": "2021-04-18T13:49:42.554188Z"
    },
    "papermill": {
     "duration": 18.533849,
     "end_time": "2021-04-18T13:49:42.554733",
     "exception": false,
     "start_time": "2021-04-18T13:49:24.020884",
     "status": "completed"
    },
    "tags": []
   },
   "outputs": [
    {
     "data": {
      "text/html": [
       "<div>\n",
       "<style scoped>\n",
       "    .dataframe tbody tr th:only-of-type {\n",
       "        vertical-align: middle;\n",
       "    }\n",
       "\n",
       "    .dataframe tbody tr th {\n",
       "        vertical-align: top;\n",
       "    }\n",
       "\n",
       "    .dataframe thead th {\n",
       "        text-align: right;\n",
       "    }\n",
       "</style>\n",
       "<table border=\"1\" class=\"dataframe\">\n",
       "  <thead>\n",
       "    <tr style=\"text-align: right;\">\n",
       "      <th></th>\n",
       "      <th>X_Value</th>\n",
       "      <th>Acceleration</th>\n",
       "      <th>Acceleration_0</th>\n",
       "      <th>Acceleration_1</th>\n",
       "      <th>Voltage</th>\n",
       "      <th>Voltage_0</th>\n",
       "      <th>Voltage_1</th>\n",
       "      <th>Voltage_2</th>\n",
       "      <th>Voltage_3</th>\n",
       "      <th>Speed</th>\n",
       "    </tr>\n",
       "  </thead>\n",
       "  <tbody>\n",
       "    <tr>\n",
       "      <th>527300</th>\n",
       "      <td>23.65000</td>\n",
       "      <td>1.229663</td>\n",
       "      <td>3.410319</td>\n",
       "      <td>1.591127</td>\n",
       "      <td>-0.065556</td>\n",
       "      <td>0.218967</td>\n",
       "      <td>-0.154621</td>\n",
       "      <td>0.000671</td>\n",
       "      <td>-0.111209</td>\n",
       "      <td>35.0</td>\n",
       "    </tr>\n",
       "    <tr>\n",
       "      <th>527301</th>\n",
       "      <td>23.65005</td>\n",
       "      <td>1.675403</td>\n",
       "      <td>4.874599</td>\n",
       "      <td>0.869431</td>\n",
       "      <td>-0.063080</td>\n",
       "      <td>0.216533</td>\n",
       "      <td>-0.156361</td>\n",
       "      <td>0.000651</td>\n",
       "      <td>-0.219664</td>\n",
       "      <td>35.0</td>\n",
       "    </tr>\n",
       "    <tr>\n",
       "      <th>527302</th>\n",
       "      <td>23.65010</td>\n",
       "      <td>1.509326</td>\n",
       "      <td>5.053244</td>\n",
       "      <td>1.155046</td>\n",
       "      <td>-0.060773</td>\n",
       "      <td>0.219026</td>\n",
       "      <td>-0.159176</td>\n",
       "      <td>0.000594</td>\n",
       "      <td>-0.015798</td>\n",
       "      <td>35.0</td>\n",
       "    </tr>\n",
       "    <tr>\n",
       "      <th>527303</th>\n",
       "      <td>23.65015</td>\n",
       "      <td>1.625740</td>\n",
       "      <td>4.456776</td>\n",
       "      <td>2.029168</td>\n",
       "      <td>-0.058248</td>\n",
       "      <td>0.215902</td>\n",
       "      <td>-0.160854</td>\n",
       "      <td>0.000641</td>\n",
       "      <td>-0.283504</td>\n",
       "      <td>35.0</td>\n",
       "    </tr>\n",
       "    <tr>\n",
       "      <th>527304</th>\n",
       "      <td>23.65020</td>\n",
       "      <td>0.792528</td>\n",
       "      <td>2.932335</td>\n",
       "      <td>1.580712</td>\n",
       "      <td>-0.055720</td>\n",
       "      <td>0.218723</td>\n",
       "      <td>-0.163708</td>\n",
       "      <td>0.000576</td>\n",
       "      <td>-0.168289</td>\n",
       "      <td>35.0</td>\n",
       "    </tr>\n",
       "    <tr>\n",
       "      <th>...</th>\n",
       "      <td>...</td>\n",
       "      <td>...</td>\n",
       "      <td>...</td>\n",
       "      <td>...</td>\n",
       "      <td>...</td>\n",
       "      <td>...</td>\n",
       "      <td>...</td>\n",
       "      <td>...</td>\n",
       "      <td>...</td>\n",
       "      <td>...</td>\n",
       "    </tr>\n",
       "    <tr>\n",
       "      <th>527395</th>\n",
       "      <td>23.65475</td>\n",
       "      <td>1.315467</td>\n",
       "      <td>7.127127</td>\n",
       "      <td>5.059434</td>\n",
       "      <td>0.170671</td>\n",
       "      <td>0.060016</td>\n",
       "      <td>-0.231309</td>\n",
       "      <td>0.000665</td>\n",
       "      <td>-0.002886</td>\n",
       "      <td>35.0</td>\n",
       "    </tr>\n",
       "    <tr>\n",
       "      <th>527396</th>\n",
       "      <td>23.65480</td>\n",
       "      <td>0.441444</td>\n",
       "      <td>2.595426</td>\n",
       "      <td>1.330875</td>\n",
       "      <td>0.168658</td>\n",
       "      <td>0.059383</td>\n",
       "      <td>-0.229970</td>\n",
       "      <td>0.000616</td>\n",
       "      <td>0.472502</td>\n",
       "      <td>35.0</td>\n",
       "    </tr>\n",
       "    <tr>\n",
       "      <th>527397</th>\n",
       "      <td>23.65485</td>\n",
       "      <td>-1.295171</td>\n",
       "      <td>-2.652332</td>\n",
       "      <td>-1.728797</td>\n",
       "      <td>0.172850</td>\n",
       "      <td>0.055582</td>\n",
       "      <td>-0.230160</td>\n",
       "      <td>0.000574</td>\n",
       "      <td>-0.308093</td>\n",
       "      <td>35.0</td>\n",
       "    </tr>\n",
       "    <tr>\n",
       "      <th>527398</th>\n",
       "      <td>23.65490</td>\n",
       "      <td>-0.437373</td>\n",
       "      <td>-3.378945</td>\n",
       "      <td>-1.192121</td>\n",
       "      <td>0.171806</td>\n",
       "      <td>0.054826</td>\n",
       "      <td>-0.228166</td>\n",
       "      <td>0.000633</td>\n",
       "      <td>0.128132</td>\n",
       "      <td>35.0</td>\n",
       "    </tr>\n",
       "    <tr>\n",
       "      <th>527399</th>\n",
       "      <td>23.65495</td>\n",
       "      <td>0.801010</td>\n",
       "      <td>-1.053116</td>\n",
       "      <td>1.692458</td>\n",
       "      <td>0.176156</td>\n",
       "      <td>0.050487</td>\n",
       "      <td>-0.227819</td>\n",
       "      <td>0.000595</td>\n",
       "      <td>0.426355</td>\n",
       "      <td>35.0</td>\n",
       "    </tr>\n",
       "  </tbody>\n",
       "</table>\n",
       "<p>100 rows × 10 columns</p>\n",
       "</div>"
      ],
      "text/plain": [
       "         X_Value  Acceleration  Acceleration_0  Acceleration_1   Voltage  \\\n",
       "527300  23.65000      1.229663        3.410319        1.591127 -0.065556   \n",
       "527301  23.65005      1.675403        4.874599        0.869431 -0.063080   \n",
       "527302  23.65010      1.509326        5.053244        1.155046 -0.060773   \n",
       "527303  23.65015      1.625740        4.456776        2.029168 -0.058248   \n",
       "527304  23.65020      0.792528        2.932335        1.580712 -0.055720   \n",
       "...          ...           ...             ...             ...       ...   \n",
       "527395  23.65475      1.315467        7.127127        5.059434  0.170671   \n",
       "527396  23.65480      0.441444        2.595426        1.330875  0.168658   \n",
       "527397  23.65485     -1.295171       -2.652332       -1.728797  0.172850   \n",
       "527398  23.65490     -0.437373       -3.378945       -1.192121  0.171806   \n",
       "527399  23.65495      0.801010       -1.053116        1.692458  0.176156   \n",
       "\n",
       "        Voltage_0  Voltage_1  Voltage_2  Voltage_3  Speed  \n",
       "527300   0.218967  -0.154621   0.000671  -0.111209   35.0  \n",
       "527301   0.216533  -0.156361   0.000651  -0.219664   35.0  \n",
       "527302   0.219026  -0.159176   0.000594  -0.015798   35.0  \n",
       "527303   0.215902  -0.160854   0.000641  -0.283504   35.0  \n",
       "527304   0.218723  -0.163708   0.000576  -0.168289   35.0  \n",
       "...           ...        ...        ...        ...    ...  \n",
       "527395   0.060016  -0.231309   0.000665  -0.002886   35.0  \n",
       "527396   0.059383  -0.229970   0.000616   0.472502   35.0  \n",
       "527397   0.055582  -0.230160   0.000574  -0.308093   35.0  \n",
       "527398   0.054826  -0.228166   0.000633   0.128132   35.0  \n",
       "527399   0.050487  -0.227819   0.000595   0.426355   35.0  \n",
       "\n",
       "[100 rows x 10 columns]"
      ]
     },
     "execution_count": 13,
     "metadata": {},
     "output_type": "execute_result"
    }
   ],
   "source": [
    "for i in range(len(data_mat_copy)):\n",
    "    data_mat_copy[i].drop(['Label'],axis=1, inplace=True)\n",
    "col_names.remove('Label')\n",
    "data_mat_copy[0]"
   ]
  },
  {
   "cell_type": "code",
   "execution_count": 14,
   "id": "silent-possession",
   "metadata": {
    "execution": {
     "iopub.execute_input": "2021-04-18T13:49:43.011062Z",
     "iopub.status.busy": "2021-04-18T13:49:42.642109Z",
     "iopub.status.idle": "2021-04-18T13:49:50.443813Z",
     "shell.execute_reply": "2021-04-18T13:49:50.443069Z"
    },
    "papermill": {
     "duration": 7.856732,
     "end_time": "2021-04-18T13:49:50.443950",
     "exception": false,
     "start_time": "2021-04-18T13:49:42.587218",
     "status": "completed"
    },
    "tags": []
   },
   "outputs": [],
   "source": [
    "data_list = []\n",
    "for i in range(len(data_mat_copy)):\n",
    "    data_list.append(data_mat_copy[i].values.tolist())"
   ]
  },
  {
   "cell_type": "code",
   "execution_count": 15,
   "id": "coastal-story",
   "metadata": {
    "execution": {
     "iopub.execute_input": "2021-04-18T13:49:50.558270Z",
     "iopub.status.busy": "2021-04-18T13:49:50.537731Z",
     "iopub.status.idle": "2021-04-18T13:50:27.328778Z",
     "shell.execute_reply": "2021-04-18T13:50:27.328236Z"
    },
    "papermill": {
     "duration": 36.853155,
     "end_time": "2021-04-18T13:50:27.328923",
     "exception": false,
     "start_time": "2021-04-18T13:49:50.475768",
     "status": "completed"
    },
    "tags": []
   },
   "outputs": [],
   "source": [
    "max_acc_0 = max_acc_1 = max_acc_2 = max_vol_0 = max_vol_1 = max_vol_2 = max_vol_3 = max_vol_4 = -1000.0\n",
    "min_acc_0 = min_acc_1 = min_acc_2 = min_vol_0 = min_vol_1 = min_vol_2 = min_vol_3 = min_vol_4 = 1000.0\n",
    "for i in range(len(data_list)):\n",
    "    for j in range(100):\n",
    "        max_acc_0 = max(max_acc_0, data_list[i][j][1])\n",
    "        max_acc_1 = max(max_acc_1, data_list[i][j][2])\n",
    "        max_acc_2 = max(max_acc_2, data_list[i][j][3])\n",
    "        min_acc_0 = min(min_acc_0, data_list[i][j][1])\n",
    "        min_acc_1 = min(min_acc_1, data_list[i][j][2])\n",
    "        min_acc_2 = min(min_acc_2, data_list[i][j][3])\n",
    "        \n",
    "        max_vol_0 = max(max_vol_0, data_list[i][j][4])\n",
    "        max_vol_1 = max(max_vol_1, data_list[i][j][5])\n",
    "        max_vol_2 = max(max_vol_2, data_list[i][j][6])\n",
    "        max_vol_3 = max(max_vol_3, data_list[i][j][7])\n",
    "        max_vol_4 = max(max_vol_4, data_list[i][j][8])\n",
    "        min_vol_0 = min(min_vol_0, data_list[i][j][4])\n",
    "        min_vol_1 = min(min_vol_1, data_list[i][j][5])\n",
    "        min_vol_2 = min(min_vol_2, data_list[i][j][6])\n",
    "        min_vol_3 = min(min_vol_3, data_list[i][j][7])\n",
    "        min_vol_4 = min(min_vol_4, data_list[i][j][8])\n",
    "        \n",
    "for i in range(len(data_list)):\n",
    "    for j in range(100):\n",
    "        data_list[i][j][0] = data_list[i][j][0]/30.0\n",
    "        \n",
    "        data_list[i][j][1] = (data_list[i][j][1]-min_acc_0)/(max_acc_0-min_acc_0)\n",
    "        data_list[i][j][2] = (data_list[i][j][2]-min_acc_1)/(max_acc_1-min_acc_1)\n",
    "        data_list[i][j][3] = (data_list[i][j][3]-min_acc_2)/(max_acc_2-min_acc_2)\n",
    "        \n",
    "        data_list[i][j][4] = (data_list[i][j][4]-min_vol_0)/(max_vol_0-min_vol_0)\n",
    "        data_list[i][j][5] = (data_list[i][j][5]-min_vol_1)/(max_vol_1-min_vol_1)\n",
    "        data_list[i][j][6] = (data_list[i][j][6]-min_vol_2)/(max_vol_2-min_vol_2)\n",
    "        data_list[i][j][7] = (data_list[i][j][7]-min_vol_3)/(max_vol_3-min_vol_3)\n",
    "        data_list[i][j][8] = (data_list[i][j][8]-min_vol_4)/(max_vol_4-min_vol_4)\n",
    "        \n",
    "        data_list[i][j][9] = data_list[i][j][9]/40.0\n",
    "        "
   ]
  },
  {
   "cell_type": "code",
   "execution_count": 16,
   "id": "visible-night",
   "metadata": {
    "execution": {
     "iopub.execute_input": "2021-04-18T13:50:27.400420Z",
     "iopub.status.busy": "2021-04-18T13:50:27.399595Z",
     "iopub.status.idle": "2021-04-18T13:50:27.405467Z",
     "shell.execute_reply": "2021-04-18T13:50:27.405003Z"
    },
    "papermill": {
     "duration": 0.043326,
     "end_time": "2021-04-18T13:50:27.405573",
     "exception": false,
     "start_time": "2021-04-18T13:50:27.362247",
     "status": "completed"
    },
    "tags": []
   },
   "outputs": [
    {
     "name": "stdout",
     "output_type": "stream",
     "text": [
      "32.919959000000006 -36.600802\n",
      "34.884459 -41.247488\n",
      "42.115406 -49.996668\n",
      "0.352439 -0.353426\n",
      "0.5146029999999999 -0.5398470000000001\n",
      "0.65403 -0.644349\n",
      "0.004435000000000001 -0.002246\n",
      "1.341934 -1.252895\n"
     ]
    }
   ],
   "source": [
    "print(max_acc_0, min_acc_0)\n",
    "print(max_acc_1, min_acc_1)\n",
    "print(max_acc_2, min_acc_2)\n",
    "print(max_vol_0, min_vol_0)\n",
    "print(max_vol_1, min_vol_1)\n",
    "print(max_vol_2, min_vol_2)\n",
    "print(max_vol_3, min_vol_3)\n",
    "print(max_vol_4, min_vol_4)"
   ]
  },
  {
   "cell_type": "code",
   "execution_count": 17,
   "id": "willing-frontier",
   "metadata": {
    "execution": {
     "iopub.execute_input": "2021-04-18T13:50:36.804675Z",
     "iopub.status.busy": "2021-04-18T13:50:36.803973Z",
     "iopub.status.idle": "2021-04-18T13:50:36.820217Z",
     "shell.execute_reply": "2021-04-18T13:50:36.821008Z"
    },
    "papermill": {
     "duration": 9.381537,
     "end_time": "2021-04-18T13:50:36.821234",
     "exception": false,
     "start_time": "2021-04-18T13:50:27.439697",
     "status": "completed"
    },
    "tags": []
   },
   "outputs": [
    {
     "name": "stdout",
     "output_type": "stream",
     "text": [
      "(37193, 100, 10) (37193,)\n"
     ]
    }
   ],
   "source": [
    "print(np.shape(data_list),np.shape(Label_col))"
   ]
  },
  {
   "cell_type": "code",
   "execution_count": 18,
   "id": "internal-football",
   "metadata": {
    "execution": {
     "iopub.execute_input": "2021-04-18T13:50:36.938424Z",
     "iopub.status.busy": "2021-04-18T13:50:36.937734Z",
     "iopub.status.idle": "2021-04-18T13:50:36.944246Z",
     "shell.execute_reply": "2021-04-18T13:50:36.945162Z"
    },
    "papermill": {
     "duration": 0.076866,
     "end_time": "2021-04-18T13:50:36.945337",
     "exception": false,
     "start_time": "2021-04-18T13:50:36.868471",
     "status": "completed"
    },
    "tags": []
   },
   "outputs": [
    {
     "data": {
      "text/html": [
       "<div>\n",
       "<style scoped>\n",
       "    .dataframe tbody tr th:only-of-type {\n",
       "        vertical-align: middle;\n",
       "    }\n",
       "\n",
       "    .dataframe tbody tr th {\n",
       "        vertical-align: top;\n",
       "    }\n",
       "\n",
       "    .dataframe thead th {\n",
       "        text-align: right;\n",
       "    }\n",
       "</style>\n",
       "<table border=\"1\" class=\"dataframe\">\n",
       "  <thead>\n",
       "    <tr style=\"text-align: right;\">\n",
       "      <th></th>\n",
       "      <th>0</th>\n",
       "      <th>1</th>\n",
       "      <th>2</th>\n",
       "      <th>3</th>\n",
       "      <th>4</th>\n",
       "      <th>5</th>\n",
       "      <th>6</th>\n",
       "      <th>7</th>\n",
       "      <th>8</th>\n",
       "      <th>9</th>\n",
       "    </tr>\n",
       "  </thead>\n",
       "  <tbody>\n",
       "    <tr>\n",
       "      <th>0</th>\n",
       "      <td>0.788333</td>\n",
       "      <td>0.544161</td>\n",
       "      <td>0.586584</td>\n",
       "      <td>0.560055</td>\n",
       "      <td>0.407826</td>\n",
       "      <td>0.719630</td>\n",
       "      <td>0.377184</td>\n",
       "      <td>0.436611</td>\n",
       "      <td>0.439985</td>\n",
       "      <td>0.875</td>\n",
       "    </tr>\n",
       "    <tr>\n",
       "      <th>1</th>\n",
       "      <td>0.788335</td>\n",
       "      <td>0.550572</td>\n",
       "      <td>0.605818</td>\n",
       "      <td>0.552220</td>\n",
       "      <td>0.411334</td>\n",
       "      <td>0.717322</td>\n",
       "      <td>0.375844</td>\n",
       "      <td>0.433618</td>\n",
       "      <td>0.398188</td>\n",
       "      <td>0.875</td>\n",
       "    </tr>\n",
       "    <tr>\n",
       "      <th>2</th>\n",
       "      <td>0.788337</td>\n",
       "      <td>0.548183</td>\n",
       "      <td>0.608164</td>\n",
       "      <td>0.555320</td>\n",
       "      <td>0.414602</td>\n",
       "      <td>0.719686</td>\n",
       "      <td>0.373676</td>\n",
       "      <td>0.425086</td>\n",
       "      <td>0.476755</td>\n",
       "      <td>0.875</td>\n",
       "    </tr>\n",
       "    <tr>\n",
       "      <th>3</th>\n",
       "      <td>0.788338</td>\n",
       "      <td>0.549858</td>\n",
       "      <td>0.600330</td>\n",
       "      <td>0.564810</td>\n",
       "      <td>0.418179</td>\n",
       "      <td>0.716723</td>\n",
       "      <td>0.372384</td>\n",
       "      <td>0.432121</td>\n",
       "      <td>0.373586</td>\n",
       "      <td>0.875</td>\n",
       "    </tr>\n",
       "    <tr>\n",
       "      <th>4</th>\n",
       "      <td>0.788340</td>\n",
       "      <td>0.537873</td>\n",
       "      <td>0.580306</td>\n",
       "      <td>0.559942</td>\n",
       "      <td>0.421761</td>\n",
       "      <td>0.719399</td>\n",
       "      <td>0.370185</td>\n",
       "      <td>0.422392</td>\n",
       "      <td>0.417987</td>\n",
       "      <td>0.875</td>\n",
       "    </tr>\n",
       "    <tr>\n",
       "      <th>...</th>\n",
       "      <td>...</td>\n",
       "      <td>...</td>\n",
       "      <td>...</td>\n",
       "      <td>...</td>\n",
       "      <td>...</td>\n",
       "      <td>...</td>\n",
       "      <td>...</td>\n",
       "      <td>...</td>\n",
       "      <td>...</td>\n",
       "      <td>...</td>\n",
       "    </tr>\n",
       "    <tr>\n",
       "      <th>95</th>\n",
       "      <td>0.788492</td>\n",
       "      <td>0.545395</td>\n",
       "      <td>0.635405</td>\n",
       "      <td>0.597708</td>\n",
       "      <td>0.742489</td>\n",
       "      <td>0.568887</td>\n",
       "      <td>0.318120</td>\n",
       "      <td>0.435713</td>\n",
       "      <td>0.481731</td>\n",
       "      <td>0.875</td>\n",
       "    </tr>\n",
       "    <tr>\n",
       "      <th>96</th>\n",
       "      <td>0.788493</td>\n",
       "      <td>0.532823</td>\n",
       "      <td>0.575881</td>\n",
       "      <td>0.557229</td>\n",
       "      <td>0.739637</td>\n",
       "      <td>0.568287</td>\n",
       "      <td>0.319151</td>\n",
       "      <td>0.428379</td>\n",
       "      <td>0.664937</td>\n",
       "      <td>0.875</td>\n",
       "    </tr>\n",
       "    <tr>\n",
       "      <th>97</th>\n",
       "      <td>0.788495</td>\n",
       "      <td>0.507843</td>\n",
       "      <td>0.506951</td>\n",
       "      <td>0.524012</td>\n",
       "      <td>0.745576</td>\n",
       "      <td>0.564682</td>\n",
       "      <td>0.319005</td>\n",
       "      <td>0.422093</td>\n",
       "      <td>0.364110</td>\n",
       "      <td>0.875</td>\n",
       "    </tr>\n",
       "    <tr>\n",
       "      <th>98</th>\n",
       "      <td>0.788497</td>\n",
       "      <td>0.520182</td>\n",
       "      <td>0.497407</td>\n",
       "      <td>0.529839</td>\n",
       "      <td>0.744097</td>\n",
       "      <td>0.563965</td>\n",
       "      <td>0.320540</td>\n",
       "      <td>0.430924</td>\n",
       "      <td>0.532223</td>\n",
       "      <td>0.875</td>\n",
       "    </tr>\n",
       "    <tr>\n",
       "      <th>99</th>\n",
       "      <td>0.788498</td>\n",
       "      <td>0.537995</td>\n",
       "      <td>0.527957</td>\n",
       "      <td>0.561155</td>\n",
       "      <td>0.750260</td>\n",
       "      <td>0.559850</td>\n",
       "      <td>0.320808</td>\n",
       "      <td>0.425236</td>\n",
       "      <td>0.647152</td>\n",
       "      <td>0.875</td>\n",
       "    </tr>\n",
       "  </tbody>\n",
       "</table>\n",
       "<p>100 rows × 10 columns</p>\n",
       "</div>"
      ],
      "text/plain": [
       "           0         1         2         3         4         5         6  \\\n",
       "0   0.788333  0.544161  0.586584  0.560055  0.407826  0.719630  0.377184   \n",
       "1   0.788335  0.550572  0.605818  0.552220  0.411334  0.717322  0.375844   \n",
       "2   0.788337  0.548183  0.608164  0.555320  0.414602  0.719686  0.373676   \n",
       "3   0.788338  0.549858  0.600330  0.564810  0.418179  0.716723  0.372384   \n",
       "4   0.788340  0.537873  0.580306  0.559942  0.421761  0.719399  0.370185   \n",
       "..       ...       ...       ...       ...       ...       ...       ...   \n",
       "95  0.788492  0.545395  0.635405  0.597708  0.742489  0.568887  0.318120   \n",
       "96  0.788493  0.532823  0.575881  0.557229  0.739637  0.568287  0.319151   \n",
       "97  0.788495  0.507843  0.506951  0.524012  0.745576  0.564682  0.319005   \n",
       "98  0.788497  0.520182  0.497407  0.529839  0.744097  0.563965  0.320540   \n",
       "99  0.788498  0.537995  0.527957  0.561155  0.750260  0.559850  0.320808   \n",
       "\n",
       "           7         8      9  \n",
       "0   0.436611  0.439985  0.875  \n",
       "1   0.433618  0.398188  0.875  \n",
       "2   0.425086  0.476755  0.875  \n",
       "3   0.432121  0.373586  0.875  \n",
       "4   0.422392  0.417987  0.875  \n",
       "..       ...       ...    ...  \n",
       "95  0.435713  0.481731  0.875  \n",
       "96  0.428379  0.664937  0.875  \n",
       "97  0.422093  0.364110  0.875  \n",
       "98  0.430924  0.532223  0.875  \n",
       "99  0.425236  0.647152  0.875  \n",
       "\n",
       "[100 rows x 10 columns]"
      ]
     },
     "execution_count": 18,
     "metadata": {},
     "output_type": "execute_result"
    }
   ],
   "source": [
    "pd.DataFrame(data_list[0])"
   ]
  },
  {
   "cell_type": "markdown",
   "id": "commercial-error",
   "metadata": {
    "papermill": {
     "duration": 0.050889,
     "end_time": "2021-04-18T13:50:37.048244",
     "exception": false,
     "start_time": "2021-04-18T13:50:36.997355",
     "status": "completed"
    },
    "tags": []
   },
   "source": [
    "# **Model in Keras**"
   ]
  },
  {
   "cell_type": "code",
   "execution_count": 19,
   "id": "selected-monday",
   "metadata": {
    "execution": {
     "iopub.execute_input": "2021-04-18T13:50:37.141729Z",
     "iopub.status.busy": "2021-04-18T13:50:37.141078Z",
     "iopub.status.idle": "2021-04-18T13:50:37.180418Z",
     "shell.execute_reply": "2021-04-18T13:50:37.179919Z"
    },
    "papermill": {
     "duration": 0.076221,
     "end_time": "2021-04-18T13:50:37.180539",
     "exception": false,
     "start_time": "2021-04-18T13:50:37.104318",
     "status": "completed"
    },
    "tags": []
   },
   "outputs": [],
   "source": [
    "from tensorflow import keras\n",
    "from tensorflow.keras import layers, models\n",
    "import sklearn.metrics as metrics"
   ]
  },
  {
   "cell_type": "markdown",
   "id": "stainless-soldier",
   "metadata": {
    "papermill": {
     "duration": 0.032376,
     "end_time": "2021-04-18T13:50:37.245972",
     "exception": false,
     "start_time": "2021-04-18T13:50:37.213596",
     "status": "completed"
    },
    "tags": []
   },
   "source": [
    "**Test Data Prep**"
   ]
  },
  {
   "cell_type": "code",
   "execution_count": 20,
   "id": "split-calibration",
   "metadata": {
    "execution": {
     "iopub.execute_input": "2021-04-18T13:50:37.315503Z",
     "iopub.status.busy": "2021-04-18T13:50:37.314901Z",
     "iopub.status.idle": "2021-04-18T13:51:27.768222Z",
     "shell.execute_reply": "2021-04-18T13:51:27.767156Z"
    },
    "papermill": {
     "duration": 50.489966,
     "end_time": "2021-04-18T13:51:27.768377",
     "exception": false,
     "start_time": "2021-04-18T13:50:37.278411",
     "status": "completed"
    },
    "tags": []
   },
   "outputs": [],
   "source": [
    "from sklearn.model_selection import train_test_split\n",
    "\n",
    "X = copy.deepcopy(data_list)\n",
    "y = copy.deepcopy(Label_col)\n",
    "\n",
    "X_train, X_test, y_train, y_test = train_test_split(X, y, test_size=0.1, random_state=42)"
   ]
  },
  {
   "cell_type": "code",
   "execution_count": 21,
   "id": "tribal-legislature",
   "metadata": {
    "execution": {
     "iopub.execute_input": "2021-04-18T13:51:27.845572Z",
     "iopub.status.busy": "2021-04-18T13:51:27.844080Z",
     "iopub.status.idle": "2021-04-18T13:51:27.847905Z",
     "shell.execute_reply": "2021-04-18T13:51:27.847293Z"
    },
    "papermill": {
     "duration": 0.045796,
     "end_time": "2021-04-18T13:51:27.848045",
     "exception": false,
     "start_time": "2021-04-18T13:51:27.802249",
     "status": "completed"
    },
    "tags": []
   },
   "outputs": [
    {
     "name": "stdout",
     "output_type": "stream",
     "text": [
      "33473 33473 3720 3720\n"
     ]
    }
   ],
   "source": [
    "print(len(X_train),len(y_train),len(X_test),len(y_test))"
   ]
  },
  {
   "cell_type": "code",
   "execution_count": 22,
   "id": "existing-success",
   "metadata": {
    "execution": {
     "iopub.execute_input": "2021-04-18T13:51:37.445395Z",
     "iopub.status.busy": "2021-04-18T13:51:36.583284Z",
     "iopub.status.idle": "2021-04-18T13:51:37.450547Z",
     "shell.execute_reply": "2021-04-18T13:51:37.450962Z"
    },
    "papermill": {
     "duration": 9.568896,
     "end_time": "2021-04-18T13:51:37.451129",
     "exception": false,
     "start_time": "2021-04-18T13:51:27.882233",
     "status": "completed"
    },
    "tags": []
   },
   "outputs": [
    {
     "name": "stdout",
     "output_type": "stream",
     "text": [
      "(33473, 100, 10) (33473,) (3720, 100, 10) (3720,)\n"
     ]
    }
   ],
   "source": [
    "print(np.shape(X_train),np.shape(y_train),np.shape(X_test),np.shape(y_test))"
   ]
  },
  {
   "cell_type": "code",
   "execution_count": 23,
   "id": "perceived-lambda",
   "metadata": {
    "execution": {
     "iopub.execute_input": "2021-04-18T13:51:46.017933Z",
     "iopub.status.busy": "2021-04-18T13:51:45.212750Z",
     "iopub.status.idle": "2021-04-18T13:51:46.021829Z",
     "shell.execute_reply": "2021-04-18T13:51:46.021416Z"
    },
    "papermill": {
     "duration": 8.536446,
     "end_time": "2021-04-18T13:51:46.021960",
     "exception": false,
     "start_time": "2021-04-18T13:51:37.485514",
     "status": "completed"
    },
    "tags": []
   },
   "outputs": [
    {
     "name": "stdout",
     "output_type": "stream",
     "text": [
      "(33473, 100, 10, 1) (3720, 100, 10, 1)\n"
     ]
    }
   ],
   "source": [
    "X_train = np.expand_dims(np.array(X_train), axis=-1)\n",
    "X_test = np.expand_dims(np.array(X_test), axis=-1)\n",
    "y_train = np.array(y_train)\n",
    "y_test = np.array(y_test)\n",
    "print(X_train.shape, X_test.shape)"
   ]
  },
  {
   "cell_type": "code",
   "execution_count": 24,
   "id": "focal-glance",
   "metadata": {
    "execution": {
     "iopub.execute_input": "2021-04-18T13:51:47.190865Z",
     "iopub.status.busy": "2021-04-18T13:51:47.189756Z",
     "iopub.status.idle": "2021-04-18T13:51:48.844621Z",
     "shell.execute_reply": "2021-04-18T13:51:48.844137Z"
    },
    "papermill": {
     "duration": 2.787573,
     "end_time": "2021-04-18T13:51:48.844753",
     "exception": false,
     "start_time": "2021-04-18T13:51:46.057180",
     "status": "completed"
    },
    "tags": []
   },
   "outputs": [],
   "source": [
    "train_dataset = tf.data.Dataset.from_tensor_slices((X_train, y_train))\n",
    "test_dataset = tf.data.Dataset.from_tensor_slices((X_test, y_test))"
   ]
  },
  {
   "cell_type": "code",
   "execution_count": 25,
   "id": "wicked-murray",
   "metadata": {
    "_kg_hide-input": true,
    "execution": {
     "iopub.execute_input": "2021-04-18T13:51:48.917787Z",
     "iopub.status.busy": "2021-04-18T13:51:48.917268Z",
     "iopub.status.idle": "2021-04-18T13:51:48.922852Z",
     "shell.execute_reply": "2021-04-18T13:51:48.922413Z"
    },
    "papermill": {
     "duration": 0.043784,
     "end_time": "2021-04-18T13:51:48.922957",
     "exception": false,
     "start_time": "2021-04-18T13:51:48.879173",
     "status": "completed"
    },
    "tags": []
   },
   "outputs": [
    {
     "data": {
      "text/plain": [
       "<TensorSliceDataset shapes: ((100, 10, 1), ()), types: (tf.float64, tf.float64)>"
      ]
     },
     "execution_count": 25,
     "metadata": {},
     "output_type": "execute_result"
    }
   ],
   "source": [
    "train_dataset"
   ]
  },
  {
   "cell_type": "code",
   "execution_count": 26,
   "id": "likely-seattle",
   "metadata": {
    "execution": {
     "iopub.execute_input": "2021-04-18T13:51:48.995033Z",
     "iopub.status.busy": "2021-04-18T13:51:48.994553Z",
     "iopub.status.idle": "2021-04-18T13:51:49.004059Z",
     "shell.execute_reply": "2021-04-18T13:51:49.003637Z"
    },
    "papermill": {
     "duration": 0.047184,
     "end_time": "2021-04-18T13:51:49.004211",
     "exception": false,
     "start_time": "2021-04-18T13:51:48.957027",
     "status": "completed"
    },
    "tags": []
   },
   "outputs": [],
   "source": [
    "BATCH_SIZE = 64\n",
    "SHUFFLE_BUFFER_SIZE = 100\n",
    "\n",
    "train_dataset = train_dataset.shuffle(SHUFFLE_BUFFER_SIZE).batch(BATCH_SIZE)\n",
    "test_dataset = test_dataset.batch(BATCH_SIZE)"
   ]
  },
  {
   "cell_type": "code",
   "execution_count": 27,
   "id": "genetic-procedure",
   "metadata": {
    "execution": {
     "iopub.execute_input": "2021-04-18T13:51:49.079982Z",
     "iopub.status.busy": "2021-04-18T13:51:49.079497Z",
     "iopub.status.idle": "2021-04-18T13:51:49.433884Z",
     "shell.execute_reply": "2021-04-18T13:51:49.433045Z"
    },
    "papermill": {
     "duration": 0.395221,
     "end_time": "2021-04-18T13:51:49.434027",
     "exception": false,
     "start_time": "2021-04-18T13:51:49.038806",
     "status": "completed"
    },
    "tags": []
   },
   "outputs": [],
   "source": [
    "model = models.Sequential()\n",
    "model.add(layers.Conv2D(32, (3, 3), activation='relu', padding='same', input_shape=(100, 10, 1)))\n",
    "model.add(layers.MaxPooling2D((2, 2)))\n",
    "model.add(layers.Conv2D(64, (3, 3), activation='relu', padding='same'))\n",
    "model.add(layers.MaxPooling2D((2, 2)))\n",
    "model.add(layers.Conv2D(64, (3, 3), activation='relu', padding='same'))\n",
    "model.add(layers.Flatten())\n",
    "model.add(layers.Dense(64, activation='relu'))\n",
    "model.add(layers.Dense(9))"
   ]
  },
  {
   "cell_type": "code",
   "execution_count": 28,
   "id": "dirty-contact",
   "metadata": {
    "execution": {
     "iopub.execute_input": "2021-04-18T13:51:49.508904Z",
     "iopub.status.busy": "2021-04-18T13:51:49.507407Z",
     "iopub.status.idle": "2021-04-18T13:51:49.516728Z",
     "shell.execute_reply": "2021-04-18T13:51:49.517185Z"
    },
    "papermill": {
     "duration": 0.048285,
     "end_time": "2021-04-18T13:51:49.517306",
     "exception": false,
     "start_time": "2021-04-18T13:51:49.469021",
     "status": "completed"
    },
    "tags": []
   },
   "outputs": [
    {
     "name": "stdout",
     "output_type": "stream",
     "text": [
      "Model: \"sequential\"\n",
      "_________________________________________________________________\n",
      "Layer (type)                 Output Shape              Param #   \n",
      "=================================================================\n",
      "conv2d (Conv2D)              (None, 100, 10, 32)       320       \n",
      "_________________________________________________________________\n",
      "max_pooling2d (MaxPooling2D) (None, 50, 5, 32)         0         \n",
      "_________________________________________________________________\n",
      "conv2d_1 (Conv2D)            (None, 50, 5, 64)         18496     \n",
      "_________________________________________________________________\n",
      "max_pooling2d_1 (MaxPooling2 (None, 25, 2, 64)         0         \n",
      "_________________________________________________________________\n",
      "conv2d_2 (Conv2D)            (None, 25, 2, 64)         36928     \n",
      "_________________________________________________________________\n",
      "flatten (Flatten)            (None, 3200)              0         \n",
      "_________________________________________________________________\n",
      "dense (Dense)                (None, 64)                204864    \n",
      "_________________________________________________________________\n",
      "dense_1 (Dense)              (None, 9)                 585       \n",
      "=================================================================\n",
      "Total params: 261,193\n",
      "Trainable params: 261,193\n",
      "Non-trainable params: 0\n",
      "_________________________________________________________________\n"
     ]
    }
   ],
   "source": [
    "model.summary()"
   ]
  },
  {
   "cell_type": "code",
   "execution_count": 29,
   "id": "powerful-facing",
   "metadata": {
    "execution": {
     "iopub.execute_input": "2021-04-18T13:51:49.591147Z",
     "iopub.status.busy": "2021-04-18T13:51:49.590642Z",
     "iopub.status.idle": "2021-04-18T13:51:49.602961Z",
     "shell.execute_reply": "2021-04-18T13:51:49.602575Z"
    },
    "papermill": {
     "duration": 0.05106,
     "end_time": "2021-04-18T13:51:49.603061",
     "exception": false,
     "start_time": "2021-04-18T13:51:49.552001",
     "status": "completed"
    },
    "tags": []
   },
   "outputs": [],
   "source": [
    "model.compile(optimizer='adam',\n",
    "              loss=tf.keras.losses.SparseCategoricalCrossentropy(from_logits=True),\n",
    "              metrics=['accuracy'])\n"
   ]
  },
  {
   "cell_type": "code",
   "execution_count": 30,
   "id": "racial-delivery",
   "metadata": {
    "execution": {
     "iopub.execute_input": "2021-04-18T13:51:49.676598Z",
     "iopub.status.busy": "2021-04-18T13:51:49.676079Z",
     "iopub.status.idle": "2021-04-18T13:55:38.125832Z",
     "shell.execute_reply": "2021-04-18T13:55:38.124966Z"
    },
    "papermill": {
     "duration": 228.487791,
     "end_time": "2021-04-18T13:55:38.125959",
     "exception": false,
     "start_time": "2021-04-18T13:51:49.638168",
     "status": "completed"
    },
    "tags": []
   },
   "outputs": [
    {
     "name": "stdout",
     "output_type": "stream",
     "text": [
      "Epoch 1/100\n",
      "524/524 [==============================] - 6s 5ms/step - loss: 1.6954 - accuracy: 0.3144 - val_loss: 1.3911 - val_accuracy: 0.4970\n",
      "Epoch 2/100\n",
      "524/524 [==============================] - 2s 4ms/step - loss: 0.7233 - accuracy: 0.7081 - val_loss: 0.7770 - val_accuracy: 0.6683\n",
      "Epoch 3/100\n",
      "524/524 [==============================] - 2s 4ms/step - loss: 0.5711 - accuracy: 0.7648 - val_loss: 0.7256 - val_accuracy: 0.6930\n",
      "Epoch 4/100\n",
      "524/524 [==============================] - 2s 4ms/step - loss: 0.4961 - accuracy: 0.7862 - val_loss: 0.4994 - val_accuracy: 0.7849\n",
      "Epoch 5/100\n",
      "524/524 [==============================] - 2s 4ms/step - loss: 0.4480 - accuracy: 0.8066 - val_loss: 0.6963 - val_accuracy: 0.7411\n",
      "Epoch 6/100\n",
      "524/524 [==============================] - 2s 4ms/step - loss: 0.4827 - accuracy: 0.8001 - val_loss: 0.5720 - val_accuracy: 0.7707\n",
      "Epoch 7/100\n",
      "524/524 [==============================] - 2s 4ms/step - loss: 0.4399 - accuracy: 0.8123 - val_loss: 0.4464 - val_accuracy: 0.8083\n",
      "Epoch 8/100\n",
      "524/524 [==============================] - 2s 4ms/step - loss: 0.3758 - accuracy: 0.8375 - val_loss: 0.5029 - val_accuracy: 0.7898\n",
      "Epoch 9/100\n",
      "524/524 [==============================] - 2s 4ms/step - loss: 0.3743 - accuracy: 0.8406 - val_loss: 0.3654 - val_accuracy: 0.8444\n",
      "Epoch 10/100\n",
      "524/524 [==============================] - 2s 4ms/step - loss: 0.3398 - accuracy: 0.8562 - val_loss: 0.5043 - val_accuracy: 0.7978\n",
      "Epoch 11/100\n",
      "524/524 [==============================] - 2s 4ms/step - loss: 0.4077 - accuracy: 0.8362 - val_loss: 0.3703 - val_accuracy: 0.8462\n",
      "Epoch 12/100\n",
      "524/524 [==============================] - 2s 4ms/step - loss: 0.3082 - accuracy: 0.8700 - val_loss: 0.3677 - val_accuracy: 0.8460\n",
      "Epoch 13/100\n",
      "524/524 [==============================] - 2s 4ms/step - loss: 0.2955 - accuracy: 0.8764 - val_loss: 0.3300 - val_accuracy: 0.8594\n",
      "Epoch 14/100\n",
      "524/524 [==============================] - 2s 4ms/step - loss: 0.2795 - accuracy: 0.8846 - val_loss: 0.3850 - val_accuracy: 0.8462\n",
      "Epoch 15/100\n",
      "524/524 [==============================] - 2s 4ms/step - loss: 0.2925 - accuracy: 0.8806 - val_loss: 0.2821 - val_accuracy: 0.8812\n",
      "Epoch 16/100\n",
      "524/524 [==============================] - 2s 4ms/step - loss: 0.2467 - accuracy: 0.8985 - val_loss: 0.3463 - val_accuracy: 0.8651\n",
      "Epoch 17/100\n",
      "524/524 [==============================] - 2s 4ms/step - loss: 0.2483 - accuracy: 0.8974 - val_loss: 0.2772 - val_accuracy: 0.8882\n",
      "Epoch 18/100\n",
      "524/524 [==============================] - 2s 4ms/step - loss: 0.2219 - accuracy: 0.9089 - val_loss: 0.2716 - val_accuracy: 0.8855\n",
      "Epoch 19/100\n",
      "524/524 [==============================] - 2s 4ms/step - loss: 0.2263 - accuracy: 0.9084 - val_loss: 0.2418 - val_accuracy: 0.9056\n",
      "Epoch 20/100\n",
      "524/524 [==============================] - 2s 5ms/step - loss: 0.1981 - accuracy: 0.9168 - val_loss: 0.2835 - val_accuracy: 0.8863\n",
      "Epoch 21/100\n",
      "524/524 [==============================] - 2s 4ms/step - loss: 0.1965 - accuracy: 0.9182 - val_loss: 0.4072 - val_accuracy: 0.8449\n",
      "Epoch 22/100\n",
      "524/524 [==============================] - 2s 4ms/step - loss: 0.3192 - accuracy: 0.8757 - val_loss: 0.3523 - val_accuracy: 0.8812\n",
      "Epoch 23/100\n",
      "524/524 [==============================] - 2s 4ms/step - loss: 0.1989 - accuracy: 0.9173 - val_loss: 0.2126 - val_accuracy: 0.9124\n",
      "Epoch 24/100\n",
      "524/524 [==============================] - 2s 4ms/step - loss: 0.1726 - accuracy: 0.9296 - val_loss: 0.2063 - val_accuracy: 0.9132\n",
      "Epoch 25/100\n",
      "524/524 [==============================] - 2s 4ms/step - loss: 0.1614 - accuracy: 0.9342 - val_loss: 0.2591 - val_accuracy: 0.8949\n",
      "Epoch 26/100\n",
      "524/524 [==============================] - 2s 4ms/step - loss: 0.1564 - accuracy: 0.9345 - val_loss: 0.2132 - val_accuracy: 0.9161\n",
      "Epoch 27/100\n",
      "524/524 [==============================] - 2s 4ms/step - loss: 0.1628 - accuracy: 0.9320 - val_loss: 0.2591 - val_accuracy: 0.8941\n",
      "Epoch 28/100\n",
      "524/524 [==============================] - 2s 4ms/step - loss: 0.1534 - accuracy: 0.9374 - val_loss: 0.1773 - val_accuracy: 0.9266\n",
      "Epoch 29/100\n",
      "524/524 [==============================] - 2s 4ms/step - loss: 0.1407 - accuracy: 0.9402 - val_loss: 0.4233 - val_accuracy: 0.8616\n",
      "Epoch 30/100\n",
      "524/524 [==============================] - 2s 4ms/step - loss: 0.1349 - accuracy: 0.9416 - val_loss: 0.2378 - val_accuracy: 0.9059\n",
      "Epoch 31/100\n",
      "524/524 [==============================] - 2s 4ms/step - loss: 0.1525 - accuracy: 0.9372 - val_loss: 0.2129 - val_accuracy: 0.9134\n",
      "Epoch 32/100\n",
      "524/524 [==============================] - 2s 4ms/step - loss: 0.1226 - accuracy: 0.9458 - val_loss: 0.2586 - val_accuracy: 0.9019\n",
      "Epoch 33/100\n",
      "524/524 [==============================] - 2s 4ms/step - loss: 0.1199 - accuracy: 0.9489 - val_loss: 0.1779 - val_accuracy: 0.9306\n",
      "Epoch 34/100\n",
      "524/524 [==============================] - 2s 4ms/step - loss: 0.1128 - accuracy: 0.9506 - val_loss: 0.1916 - val_accuracy: 0.9228\n",
      "Epoch 35/100\n",
      "524/524 [==============================] - 2s 4ms/step - loss: 0.1097 - accuracy: 0.9510 - val_loss: 0.1711 - val_accuracy: 0.9290\n",
      "Epoch 36/100\n",
      "524/524 [==============================] - 2s 4ms/step - loss: 0.1082 - accuracy: 0.9532 - val_loss: 0.1434 - val_accuracy: 0.9438\n",
      "Epoch 37/100\n",
      "524/524 [==============================] - 2s 4ms/step - loss: 0.0988 - accuracy: 0.9571 - val_loss: 0.2451 - val_accuracy: 0.9099\n",
      "Epoch 38/100\n",
      "524/524 [==============================] - 2s 4ms/step - loss: 0.1026 - accuracy: 0.9553 - val_loss: 0.1833 - val_accuracy: 0.9315\n",
      "Epoch 39/100\n",
      "524/524 [==============================] - 2s 4ms/step - loss: 0.0913 - accuracy: 0.9595 - val_loss: 0.2567 - val_accuracy: 0.9108\n",
      "Epoch 40/100\n",
      "524/524 [==============================] - 2s 4ms/step - loss: 0.1656 - accuracy: 0.9383 - val_loss: 0.3046 - val_accuracy: 0.8927\n",
      "Epoch 41/100\n",
      "524/524 [==============================] - 2s 4ms/step - loss: 0.2395 - accuracy: 0.9179 - val_loss: 0.1391 - val_accuracy: 0.9422\n",
      "Epoch 42/100\n",
      "524/524 [==============================] - 2s 4ms/step - loss: 0.0792 - accuracy: 0.9632 - val_loss: 0.6685 - val_accuracy: 0.8336\n",
      "Epoch 43/100\n",
      "524/524 [==============================] - 2s 4ms/step - loss: 0.3438 - accuracy: 0.8902 - val_loss: 0.2117 - val_accuracy: 0.9194\n",
      "Epoch 44/100\n",
      "524/524 [==============================] - 2s 4ms/step - loss: 0.0879 - accuracy: 0.9592 - val_loss: 0.1564 - val_accuracy: 0.9403\n",
      "Epoch 45/100\n",
      "524/524 [==============================] - 2s 4ms/step - loss: 0.0731 - accuracy: 0.9679 - val_loss: 0.1947 - val_accuracy: 0.9290\n",
      "Epoch 46/100\n",
      "524/524 [==============================] - 2s 4ms/step - loss: 0.0852 - accuracy: 0.9612 - val_loss: 0.1694 - val_accuracy: 0.9363\n",
      "Epoch 47/100\n",
      "524/524 [==============================] - 2s 4ms/step - loss: 0.0897 - accuracy: 0.9595 - val_loss: 0.1164 - val_accuracy: 0.9492\n",
      "Epoch 48/100\n",
      "524/524 [==============================] - 2s 4ms/step - loss: 0.0753 - accuracy: 0.9645 - val_loss: 0.1444 - val_accuracy: 0.9452\n",
      "Epoch 49/100\n",
      "524/524 [==============================] - 2s 4ms/step - loss: 0.0751 - accuracy: 0.9651 - val_loss: 0.1520 - val_accuracy: 0.9435\n",
      "Epoch 50/100\n",
      "524/524 [==============================] - 2s 4ms/step - loss: 0.0858 - accuracy: 0.9617 - val_loss: 0.4136 - val_accuracy: 0.8841\n",
      "Epoch 51/100\n",
      "524/524 [==============================] - 2s 4ms/step - loss: 0.4211 - accuracy: 0.8801 - val_loss: 0.1288 - val_accuracy: 0.9487\n",
      "Epoch 52/100\n",
      "524/524 [==============================] - 2s 4ms/step - loss: 0.0715 - accuracy: 0.9658 - val_loss: 0.1602 - val_accuracy: 0.9403\n",
      "Epoch 53/100\n",
      "524/524 [==============================] - 2s 4ms/step - loss: 0.0700 - accuracy: 0.9668 - val_loss: 0.1514 - val_accuracy: 0.9444\n",
      "Epoch 54/100\n",
      "524/524 [==============================] - 2s 4ms/step - loss: 0.0748 - accuracy: 0.9657 - val_loss: 0.1644 - val_accuracy: 0.9419\n",
      "Epoch 55/100\n",
      "524/524 [==============================] - 2s 4ms/step - loss: 0.0832 - accuracy: 0.9629 - val_loss: 0.1250 - val_accuracy: 0.9535\n",
      "Epoch 56/100\n",
      "524/524 [==============================] - 2s 4ms/step - loss: 0.0706 - accuracy: 0.9679 - val_loss: 0.6396 - val_accuracy: 0.8449\n",
      "Epoch 57/100\n",
      "524/524 [==============================] - 2s 4ms/step - loss: 0.4748 - accuracy: 0.8808 - val_loss: 0.1123 - val_accuracy: 0.9538\n",
      "Epoch 58/100\n",
      "524/524 [==============================] - 2s 4ms/step - loss: 0.0688 - accuracy: 0.9690 - val_loss: 0.1717 - val_accuracy: 0.9355\n",
      "Epoch 59/100\n",
      "524/524 [==============================] - 2s 4ms/step - loss: 0.0564 - accuracy: 0.9721 - val_loss: 0.1441 - val_accuracy: 0.9465\n",
      "Epoch 60/100\n",
      "524/524 [==============================] - 2s 4ms/step - loss: 0.0545 - accuracy: 0.9728 - val_loss: 0.1757 - val_accuracy: 0.9411\n",
      "Epoch 61/100\n",
      "524/524 [==============================] - 2s 4ms/step - loss: 0.0568 - accuracy: 0.9711 - val_loss: 0.1528 - val_accuracy: 0.9452\n",
      "Epoch 62/100\n",
      "524/524 [==============================] - 2s 4ms/step - loss: 0.0621 - accuracy: 0.9706 - val_loss: 0.1126 - val_accuracy: 0.9538\n",
      "Epoch 63/100\n",
      "524/524 [==============================] - 2s 4ms/step - loss: 0.0512 - accuracy: 0.9746 - val_loss: 0.1467 - val_accuracy: 0.9462\n",
      "Epoch 64/100\n",
      "524/524 [==============================] - 2s 4ms/step - loss: 0.0589 - accuracy: 0.9714 - val_loss: 0.1187 - val_accuracy: 0.9522\n",
      "Epoch 65/100\n",
      "524/524 [==============================] - 2s 4ms/step - loss: 0.0560 - accuracy: 0.9716 - val_loss: 0.1337 - val_accuracy: 0.9505\n",
      "Epoch 66/100\n",
      "524/524 [==============================] - 2s 4ms/step - loss: 0.0756 - accuracy: 0.9639 - val_loss: 0.1103 - val_accuracy: 0.9522\n",
      "Epoch 67/100\n",
      "524/524 [==============================] - 2s 4ms/step - loss: 0.0580 - accuracy: 0.9709 - val_loss: 0.0987 - val_accuracy: 0.9570\n",
      "Epoch 68/100\n",
      "524/524 [==============================] - 2s 4ms/step - loss: 0.0439 - accuracy: 0.9760 - val_loss: 0.1269 - val_accuracy: 0.9573\n",
      "Epoch 69/100\n",
      "524/524 [==============================] - 2s 4ms/step - loss: 0.0549 - accuracy: 0.9726 - val_loss: 0.1414 - val_accuracy: 0.9460\n",
      "Epoch 70/100\n",
      "524/524 [==============================] - 2s 4ms/step - loss: 0.0489 - accuracy: 0.9745 - val_loss: 0.1562 - val_accuracy: 0.9465\n",
      "Epoch 71/100\n",
      "524/524 [==============================] - 2s 4ms/step - loss: 0.0599 - accuracy: 0.9707 - val_loss: 0.1589 - val_accuracy: 0.9425\n",
      "Epoch 72/100\n",
      "524/524 [==============================] - 2s 4ms/step - loss: 0.0611 - accuracy: 0.9709 - val_loss: 0.0958 - val_accuracy: 0.9632\n",
      "Epoch 73/100\n",
      "524/524 [==============================] - 2s 4ms/step - loss: 0.0470 - accuracy: 0.9766 - val_loss: 0.1042 - val_accuracy: 0.9546\n",
      "Epoch 74/100\n",
      "524/524 [==============================] - 2s 4ms/step - loss: 0.0429 - accuracy: 0.9780 - val_loss: 0.1309 - val_accuracy: 0.9508\n",
      "Epoch 75/100\n",
      "524/524 [==============================] - 2s 4ms/step - loss: 0.0755 - accuracy: 0.9675 - val_loss: 0.1739 - val_accuracy: 0.9390\n",
      "Epoch 76/100\n",
      "524/524 [==============================] - 2s 4ms/step - loss: 0.0545 - accuracy: 0.9723 - val_loss: 0.1280 - val_accuracy: 0.9527\n",
      "Epoch 77/100\n",
      "524/524 [==============================] - 2s 4ms/step - loss: 0.0525 - accuracy: 0.9734 - val_loss: 0.1254 - val_accuracy: 0.9516\n",
      "Epoch 78/100\n",
      "524/524 [==============================] - 2s 4ms/step - loss: 0.0515 - accuracy: 0.9731 - val_loss: 0.1053 - val_accuracy: 0.9605\n",
      "Epoch 79/100\n",
      "524/524 [==============================] - 2s 4ms/step - loss: 0.0433 - accuracy: 0.9763 - val_loss: 0.1075 - val_accuracy: 0.9581\n",
      "Epoch 80/100\n",
      "524/524 [==============================] - 2s 4ms/step - loss: 0.0417 - accuracy: 0.9786 - val_loss: 0.1467 - val_accuracy: 0.9524\n",
      "Epoch 81/100\n",
      "524/524 [==============================] - 2s 4ms/step - loss: 0.0466 - accuracy: 0.9761 - val_loss: 0.1035 - val_accuracy: 0.9605\n",
      "Epoch 82/100\n",
      "524/524 [==============================] - 2s 4ms/step - loss: 0.0602 - accuracy: 0.9725 - val_loss: 0.1051 - val_accuracy: 0.9597\n",
      "Epoch 83/100\n",
      "524/524 [==============================] - 2s 4ms/step - loss: 0.0363 - accuracy: 0.9798 - val_loss: 0.3766 - val_accuracy: 0.9024\n",
      "Epoch 84/100\n",
      "524/524 [==============================] - 2s 4ms/step - loss: 0.0972 - accuracy: 0.9609 - val_loss: 0.1219 - val_accuracy: 0.9562\n",
      "Epoch 85/100\n",
      "524/524 [==============================] - 2s 4ms/step - loss: 0.0447 - accuracy: 0.9769 - val_loss: 0.1680 - val_accuracy: 0.9387\n",
      "Epoch 86/100\n",
      "524/524 [==============================] - 2s 4ms/step - loss: 0.0488 - accuracy: 0.9757 - val_loss: 0.1511 - val_accuracy: 0.9513\n",
      "Epoch 87/100\n",
      "524/524 [==============================] - 2s 4ms/step - loss: 0.0522 - accuracy: 0.9738 - val_loss: 0.1636 - val_accuracy: 0.9441\n",
      "Epoch 88/100\n",
      "524/524 [==============================] - 2s 4ms/step - loss: 0.0626 - accuracy: 0.9725 - val_loss: 0.1045 - val_accuracy: 0.9599\n",
      "Epoch 89/100\n",
      "524/524 [==============================] - 2s 4ms/step - loss: 0.0482 - accuracy: 0.9765 - val_loss: 0.0783 - val_accuracy: 0.9645\n",
      "Epoch 90/100\n",
      "524/524 [==============================] - 2s 4ms/step - loss: 0.0347 - accuracy: 0.9806 - val_loss: 0.1255 - val_accuracy: 0.9562\n",
      "Epoch 91/100\n",
      "524/524 [==============================] - 2s 4ms/step - loss: 0.0492 - accuracy: 0.9759 - val_loss: 0.0924 - val_accuracy: 0.9618\n",
      "Epoch 92/100\n",
      "524/524 [==============================] - 2s 4ms/step - loss: 0.0364 - accuracy: 0.9792 - val_loss: 0.0879 - val_accuracy: 0.9653\n",
      "Epoch 93/100\n",
      "524/524 [==============================] - 2s 4ms/step - loss: 0.0342 - accuracy: 0.9801 - val_loss: 0.1818 - val_accuracy: 0.9401\n",
      "Epoch 94/100\n",
      "524/524 [==============================] - 2s 4ms/step - loss: 0.0511 - accuracy: 0.9732 - val_loss: 0.1570 - val_accuracy: 0.9484\n",
      "Epoch 95/100\n",
      "524/524 [==============================] - 2s 4ms/step - loss: 0.0374 - accuracy: 0.9786 - val_loss: 0.1256 - val_accuracy: 0.9548\n",
      "Epoch 96/100\n",
      "524/524 [==============================] - 2s 4ms/step - loss: 0.0498 - accuracy: 0.9759 - val_loss: 0.1031 - val_accuracy: 0.9621\n",
      "Epoch 97/100\n",
      "524/524 [==============================] - 2s 4ms/step - loss: 0.0542 - accuracy: 0.9747 - val_loss: 0.0934 - val_accuracy: 0.9599\n",
      "Epoch 98/100\n",
      "524/524 [==============================] - 2s 4ms/step - loss: 0.0447 - accuracy: 0.9769 - val_loss: 0.1211 - val_accuracy: 0.9567\n",
      "Epoch 99/100\n",
      "524/524 [==============================] - 2s 4ms/step - loss: 0.0324 - accuracy: 0.9806 - val_loss: 0.1334 - val_accuracy: 0.9543\n",
      "Epoch 100/100\n",
      "524/524 [==============================] - 2s 4ms/step - loss: 0.0445 - accuracy: 0.9763 - val_loss: 0.1735 - val_accuracy: 0.9470\n"
     ]
    }
   ],
   "source": [
    "history = model.fit(train_dataset, epochs=100, validation_data=(test_dataset))"
   ]
  },
  {
   "cell_type": "code",
   "execution_count": 31,
   "id": "short-thompson",
   "metadata": {
    "execution": {
     "iopub.execute_input": "2021-04-18T13:55:40.099742Z",
     "iopub.status.busy": "2021-04-18T13:55:40.098936Z",
     "iopub.status.idle": "2021-04-18T13:55:40.264391Z",
     "shell.execute_reply": "2021-04-18T13:55:40.263675Z"
    },
    "papermill": {
     "duration": 1.156609,
     "end_time": "2021-04-18T13:55:40.264514",
     "exception": false,
     "start_time": "2021-04-18T13:55:39.107905",
     "status": "completed"
    },
    "tags": []
   },
   "outputs": [
    {
     "name": "stdout",
     "output_type": "stream",
     "text": [
      "59/59 [==============================] - 0s 2ms/step - loss: 0.1735 - accuracy: 0.9470\n"
     ]
    },
    {
     "data": {
      "text/plain": [
       "[0.17353859543800354, 0.9470430016517639]"
      ]
     },
     "execution_count": 31,
     "metadata": {},
     "output_type": "execute_result"
    }
   ],
   "source": [
    "model.evaluate(test_dataset)"
   ]
  },
  {
   "cell_type": "code",
   "execution_count": 32,
   "id": "coral-private",
   "metadata": {
    "execution": {
     "iopub.execute_input": "2021-04-18T13:55:42.266430Z",
     "iopub.status.busy": "2021-04-18T13:55:42.265694Z",
     "iopub.status.idle": "2021-04-18T13:55:42.401427Z",
     "shell.execute_reply": "2021-04-18T13:55:42.401828Z"
    },
    "papermill": {
     "duration": 1.143415,
     "end_time": "2021-04-18T13:55:42.401965",
     "exception": false,
     "start_time": "2021-04-18T13:55:41.258550",
     "status": "completed"
    },
    "tags": []
   },
   "outputs": [
    {
     "data": {
      "text/plain": [
       "<matplotlib.legend.Legend at 0x7fd261ac57d0>"
      ]
     },
     "execution_count": 32,
     "metadata": {},
     "output_type": "execute_result"
    },
    {
     "data": {
      "image/png": "[encoded data removed]",
      "text/plain": [
       "<Figure size 432x288 with 1 Axes>"
      ]
     },
     "metadata": {
      "needs_background": "light"
     },
     "output_type": "display_data"
    }
   ],
   "source": [
    "import matplotlib.pyplot as plt\n",
    "plt.title('Model Accuracy')\n",
    "plt.plot(history.history['accuracy'], label='accuracy')\n",
    "plt.plot(history.history['val_accuracy'], label = 'val_accuracy')\n",
    "plt.xlabel('Epoch')\n",
    "plt.ylabel('Accuracy')\n",
    "plt.ylim([0.5, 1])\n",
    "plt.legend(loc='lower right')\n"
   ]
  },
  {
   "cell_type": "code",
   "execution_count": 33,
   "id": "ultimate-favor",
   "metadata": {
    "execution": {
     "iopub.execute_input": "2021-04-18T13:55:44.689021Z",
     "iopub.status.busy": "2021-04-18T13:55:44.688028Z",
     "iopub.status.idle": "2021-04-18T13:55:44.794438Z",
     "shell.execute_reply": "2021-04-18T13:55:44.794855Z"
    },
    "papermill": {
     "duration": 1.393327,
     "end_time": "2021-04-18T13:55:44.794999",
     "exception": false,
     "start_time": "2021-04-18T13:55:43.401672",
     "status": "completed"
    },
    "tags": []
   },
   "outputs": [
    {
     "data": {
      "text/plain": [
       "<matplotlib.legend.Legend at 0x7fd26327ef50>"
      ]
     },
     "execution_count": 33,
     "metadata": {},
     "output_type": "execute_result"
    },
    {
     "data": {
      "image/png": "[encoded data removed]",
      "text/plain": [
       "<Figure size 432x288 with 1 Axes>"
      ]
     },
     "metadata": {
      "needs_background": "light"
     },
     "output_type": "display_data"
    }
   ],
   "source": [
    "plt.title('Model loss')\n",
    "plt.plot(history.history['loss'], label='loss')\n",
    "plt.plot(history.history['val_loss'], label = 'val_loss')\n",
    "plt.xlabel('Epoch')\n",
    "plt.ylabel('Loss')\n",
    "plt.ylim([0.0, 1])\n",
    "plt.legend(loc='lower right')"
   ]
  },
  {
   "cell_type": "markdown",
   "id": "agreed-breed",
   "metadata": {
    "papermill": {
     "duration": 1.162952,
     "end_time": "2021-04-18T13:55:46.950129",
     "exception": false,
     "start_time": "2021-04-18T13:55:45.787177",
     "status": "completed"
    },
    "tags": []
   },
   "source": [
    "**Cofusion Matrix Added**\n"
   ]
  },
  {
   "cell_type": "markdown",
   "id": "universal-structure",
   "metadata": {
    "papermill": {
     "duration": 0.986984,
     "end_time": "2021-04-18T13:55:49.206833",
     "exception": false,
     "start_time": "2021-04-18T13:55:48.219849",
     "status": "completed"
    },
    "tags": []
   },
   "source": [
    "defects = {'nd':0.0, 'bf':1.0, 'ur':2.0, 'brf':3.0, 'rm':4.0, 'brbf':5.0, 'vusff':6.0, 'puspf':7.0, 'mpuspf':8.0, 'mswf':9.0, 'swf':10.0}"
   ]
  },
  {
   "cell_type": "code",
   "execution_count": 34,
   "id": "fluid-belly",
   "metadata": {
    "execution": {
     "iopub.execute_input": "2021-04-18T13:55:51.228488Z",
     "iopub.status.busy": "2021-04-18T13:55:51.226791Z",
     "iopub.status.idle": "2021-04-18T13:55:51.229045Z",
     "shell.execute_reply": "2021-04-18T13:55:51.229475Z"
    },
    "papermill": {
     "duration": 1.027859,
     "end_time": "2021-04-18T13:55:51.229607",
     "exception": false,
     "start_time": "2021-04-18T13:55:50.201748",
     "status": "completed"
    },
    "tags": []
   },
   "outputs": [],
   "source": [
    "Class_names = [\n",
    "'ND',\n",
    "'BF',\n",
    "'UR',\n",
    "'BRF',\n",
    "'RM',\n",
    "'BRBF',\n",
    "'VUSFF',\n",
    "'PUSPF',\n",
    "'MPUSPF',\n",
    "'MSWF',\n",
    "'SWF']\n",
    "\n",
    "Class_names.remove('PUSPF')\n",
    "Class_names.remove('MPUSPF')"
   ]
  },
  {
   "cell_type": "code",
   "execution_count": 35,
   "id": "running-aurora",
   "metadata": {
    "execution": {
     "iopub.execute_input": "2021-04-18T13:55:53.204936Z",
     "iopub.status.busy": "2021-04-18T13:55:53.204150Z",
     "iopub.status.idle": "2021-04-18T13:55:53.392683Z",
     "shell.execute_reply": "2021-04-18T13:55:53.393292Z"
    },
    "papermill": {
     "duration": 1.180333,
     "end_time": "2021-04-18T13:55:53.393464",
     "exception": false,
     "start_time": "2021-04-18T13:55:52.213131",
     "status": "completed"
    },
    "tags": []
   },
   "outputs": [],
   "source": [
    "predictions = model.predict(test_dataset, batch_size=10, verbose=0)"
   ]
  },
  {
   "cell_type": "code",
   "execution_count": 36,
   "id": "quiet-passport",
   "metadata": {
    "execution": {
     "iopub.execute_input": "2021-04-18T13:55:55.651834Z",
     "iopub.status.busy": "2021-04-18T13:55:55.650496Z",
     "iopub.status.idle": "2021-04-18T13:55:55.654705Z",
     "shell.execute_reply": "2021-04-18T13:55:55.655172Z"
    },
    "papermill": {
     "duration": 1.257251,
     "end_time": "2021-04-18T13:55:55.655312",
     "exception": false,
     "start_time": "2021-04-18T13:55:54.398061",
     "status": "completed"
    },
    "tags": []
   },
   "outputs": [
    {
     "data": {
      "text/plain": [
       "array([[-299.38516  , -113.569336 ,   41.09549  , ...,  -61.53975  ,\n",
       "         -65.6252   ,  -57.300518 ],\n",
       "       [  39.471195 ,   -8.311532 ,  -47.342182 , ...,   17.99365  ,\n",
       "          10.727131 ,  -42.49673  ],\n",
       "       [-111.06825  ,   -2.6708353,   -7.405575 , ...,  -12.146557 ,\n",
       "         -37.076687 ,  -72.3107   ],\n",
       "       ...,\n",
       "       [ -53.98263  ,   58.39095  ,    4.9989676, ...,    1.9074494,\n",
       "         -32.378006 ,  -77.25136  ],\n",
       "       [ -11.907473 ,   -6.579865 ,  -10.901267 , ...,  -10.27234  ,\n",
       "           7.84781  ,   -4.711889 ],\n",
       "       [-191.90332  ,  -40.747086 ,   19.587255 , ...,  -32.965324 ,\n",
       "         -31.604053 ,  -33.237965 ]], dtype=float32)"
      ]
     },
     "execution_count": 36,
     "metadata": {},
     "output_type": "execute_result"
    }
   ],
   "source": [
    "predictions"
   ]
  },
  {
   "cell_type": "code",
   "execution_count": 37,
   "id": "nervous-submission",
   "metadata": {
    "_kg_hide-output": true,
    "execution": {
     "iopub.execute_input": "2021-04-18T13:55:57.702360Z",
     "iopub.status.busy": "2021-04-18T13:55:57.701643Z",
     "iopub.status.idle": "2021-04-18T13:55:57.801737Z",
     "shell.execute_reply": "2021-04-18T13:55:57.802384Z"
    },
    "papermill": {
     "duration": 1.125042,
     "end_time": "2021-04-18T13:55:57.802577",
     "exception": false,
     "start_time": "2021-04-18T13:55:56.677535",
     "status": "completed"
    },
    "tags": []
   },
   "outputs": [
    {
     "name": "stderr",
     "output_type": "stream",
     "text": [
      "/opt/conda/lib/python3.7/site-packages/tensorflow/python/keras/engine/sequential.py:450: UserWarning: `model.predict_classes()` is deprecated and will be removed after 2021-01-01. Please use instead:* `np.argmax(model.predict(x), axis=-1)`,   if your model does multi-class classification   (e.g. if it uses a `softmax` last-layer activation).* `(model.predict(x) > 0.5).astype(\"int32\")`,   if your model does binary classification   (e.g. if it uses a `sigmoid` last-layer activation).\n",
      "  warnings.warn('`model.predict_classes()` is deprecated and '\n"
     ]
    }
   ],
   "source": [
    "predicted_classes = model.predict_classes(test_dataset, batch_size=10, verbose=0)"
   ]
  },
  {
   "cell_type": "code",
   "execution_count": 38,
   "id": "generous-unemployment",
   "metadata": {
    "execution": {
     "iopub.execute_input": "2021-04-18T13:55:59.792336Z",
     "iopub.status.busy": "2021-04-18T13:55:59.790572Z",
     "iopub.status.idle": "2021-04-18T13:55:59.794338Z",
     "shell.execute_reply": "2021-04-18T13:55:59.793902Z"
    },
    "papermill": {
     "duration": 1.00269,
     "end_time": "2021-04-18T13:55:59.794458",
     "exception": false,
     "start_time": "2021-04-18T13:55:58.791768",
     "status": "completed"
    },
    "tags": []
   },
   "outputs": [
    {
     "data": {
      "text/plain": [
       "array([0, 1, 2, 3, 4, 5, 6, 7, 8])"
      ]
     },
     "execution_count": 38,
     "metadata": {},
     "output_type": "execute_result"
    }
   ],
   "source": [
    "np.unique(predicted_classes)"
   ]
  },
  {
   "cell_type": "code",
   "execution_count": 39,
   "id": "possible-provision",
   "metadata": {
    "execution": {
     "iopub.execute_input": "2021-04-18T13:56:01.783482Z",
     "iopub.status.busy": "2021-04-18T13:56:01.782665Z",
     "iopub.status.idle": "2021-04-18T13:56:01.791552Z",
     "shell.execute_reply": "2021-04-18T13:56:01.791039Z"
    },
    "papermill": {
     "duration": 1.002967,
     "end_time": "2021-04-18T13:56:01.791660",
     "exception": false,
     "start_time": "2021-04-18T13:56:00.788693",
     "status": "completed"
    },
    "tags": []
   },
   "outputs": [],
   "source": [
    "confusion_matrix = metrics.confusion_matrix(y_true=y_test, y_pred=predicted_classes)"
   ]
  },
  {
   "cell_type": "code",
   "execution_count": 40,
   "id": "contrary-statistics",
   "metadata": {
    "execution": {
     "iopub.execute_input": "2021-04-18T13:56:03.814476Z",
     "iopub.status.busy": "2021-04-18T13:56:03.813292Z",
     "iopub.status.idle": "2021-04-18T13:56:03.817124Z",
     "shell.execute_reply": "2021-04-18T13:56:03.816685Z"
    },
    "papermill": {
     "duration": 1.036151,
     "end_time": "2021-04-18T13:56:03.817233",
     "exception": false,
     "start_time": "2021-04-18T13:56:02.781082",
     "status": "completed"
    },
    "tags": []
   },
   "outputs": [
    {
     "data": {
      "text/plain": [
       "array([[414,   1,   1,   0,   0,   0,   1,   1,   0],\n",
       "       [  1, 422,   1,   3,   0,   0,   0,   0,   0],\n",
       "       [  0,   6, 393,   4,   0,  16,   0,   0,   0],\n",
       "       [  0,   0,   2, 419,   0,  14,   6,   0,   0],\n",
       "       [  0,   0,   0,   4, 345,   1,   0,   0,   0],\n",
       "       [  0,   3,   4,   8,   0, 406,   7,   0,   0],\n",
       "       [  4,   3,   0,   2,   0,   1, 386,   2,   0],\n",
       "       [  3,   1,   0,   2,   0,   0,   4, 385,  17],\n",
       "       [  1,   1,   1,   0,   0,   0,   0,  71, 353]])"
      ]
     },
     "execution_count": 40,
     "metadata": {},
     "output_type": "execute_result"
    }
   ],
   "source": [
    "confusion_matrix"
   ]
  },
  {
   "cell_type": "code",
   "execution_count": 41,
   "id": "lovely-hybrid",
   "metadata": {
    "execution": {
     "iopub.execute_input": "2021-04-18T13:56:05.800795Z",
     "iopub.status.busy": "2021-04-18T13:56:05.798759Z",
     "iopub.status.idle": "2021-04-18T13:56:05.810960Z",
     "shell.execute_reply": "2021-04-18T13:56:05.810520Z"
    },
    "papermill": {
     "duration": 1.006044,
     "end_time": "2021-04-18T13:56:05.811070",
     "exception": false,
     "start_time": "2021-04-18T13:56:04.805026",
     "status": "completed"
    },
    "tags": []
   },
   "outputs": [],
   "source": [
    "def plot_confusion_matrix(cm,\n",
    "                          target_names,\n",
    "                          title='Confusion matrix',\n",
    "                          cmap=None,\n",
    "                          normalize=True):\n",
    "    \"\"\"\n",
    "    Citiation\n",
    "    ---------\n",
    "    http://scikit-learn.org/stable/auto_examples/model_selection/plot_confusion_matrix.html\n",
    "\n",
    "    \"\"\"\n",
    "    import matplotlib.pyplot as plt\n",
    "    import numpy as np\n",
    "    import itertools\n",
    "\n",
    "    accuracy = np.trace(cm) / float(np.sum(cm))\n",
    "    misclass = 1 - accuracy\n",
    "\n",
    "    if cmap is None:\n",
    "        cmap = plt.get_cmap('Blues')\n",
    "\n",
    "    plt.figure(figsize=(8, 6))\n",
    "    plt.imshow(cm, interpolation='nearest', cmap=cmap)\n",
    "    plt.title(title)\n",
    "    plt.colorbar()\n",
    "\n",
    "    if target_names is not None:\n",
    "        tick_marks = np.arange(len(target_names))\n",
    "        plt.xticks(tick_marks, target_names, rotation=45)\n",
    "        plt.yticks(tick_marks, target_names)\n",
    "\n",
    "    if normalize:\n",
    "        cm = cm.astype('float') / cm.sum(axis=1)[:, np.newaxis]\n",
    "\n",
    "\n",
    "    thresh = cm.max() / 1.5 if normalize else cm.max() / 2\n",
    "    for i, j in itertools.product(range(cm.shape[0]), range(cm.shape[1])):\n",
    "        if normalize:\n",
    "            plt.text(j, i, \"{:0.4f}\".format(cm[i, j]),\n",
    "                     horizontalalignment=\"center\",\n",
    "                     color=\"white\" if cm[i, j] > thresh else \"black\")\n",
    "        else:\n",
    "            plt.text(j, i, \"{:,}\".format(cm[i, j]),\n",
    "                     horizontalalignment=\"center\",\n",
    "                     color=\"white\" if cm[i, j] > thresh else \"black\")\n",
    "\n",
    "\n",
    "    plt.tight_layout()\n",
    "    plt.ylabel('True label')\n",
    "    plt.xlabel('Predicted label\\naccuracy={:0.4f}; misclass={:0.4f}'.format(accuracy, misclass))\n",
    "    plt.show()\n",
    "\n"
   ]
  },
  {
   "cell_type": "code",
   "execution_count": 42,
   "id": "behavioral-theology",
   "metadata": {
    "execution": {
     "iopub.execute_input": "2021-04-18T13:56:08.065292Z",
     "iopub.status.busy": "2021-04-18T13:56:08.064429Z",
     "iopub.status.idle": "2021-04-18T13:56:08.597829Z",
     "shell.execute_reply": "2021-04-18T13:56:08.596955Z"
    },
    "papermill": {
     "duration": 1.552267,
     "end_time": "2021-04-18T13:56:08.597966",
     "exception": false,
     "start_time": "2021-04-18T13:56:07.045699",
     "status": "completed"
    },
    "tags": []
   },
   "outputs": [
    {
     "data": {
      "image/png": "[encoded data removed]",
      "text/plain": [
       "<Figure size 576x432 with 2 Axes>"
      ]
     },
     "metadata": {
      "needs_background": "light"
     },
     "output_type": "display_data"
    }
   ],
   "source": [
    "plot_confusion_matrix(confusion_matrix, \n",
    "                      normalize    = False,\n",
    "                      target_names = Class_names,\n",
    "                      title        = \"Confusion Matrix\")\n",
    "\n"
   ]
  },
  {
   "cell_type": "code",
   "execution_count": 43,
   "id": "original-encoding",
   "metadata": {
    "execution": {
     "iopub.execute_input": "2021-04-18T13:56:10.627731Z",
     "iopub.status.busy": "2021-04-18T13:56:10.626922Z",
     "iopub.status.idle": "2021-04-18T13:56:10.642988Z",
     "shell.execute_reply": "2021-04-18T13:56:10.643383Z"
    },
    "papermill": {
     "duration": 1.055573,
     "end_time": "2021-04-18T13:56:10.643514",
     "exception": false,
     "start_time": "2021-04-18T13:56:09.587941",
     "status": "completed"
    },
    "tags": []
   },
   "outputs": [
    {
     "name": "stdout",
     "output_type": "stream",
     "text": [
      "              precision    recall  f1-score   support\n",
      "\n",
      "         0.0       0.98      0.99      0.98       418\n",
      "         1.0       0.97      0.99      0.98       427\n",
      "         2.0       0.98      0.94      0.96       419\n",
      "         3.0       0.95      0.95      0.95       441\n",
      "         4.0       1.00      0.99      0.99       350\n",
      "         5.0       0.93      0.95      0.94       428\n",
      "         6.0       0.96      0.97      0.96       398\n",
      "         7.0       0.84      0.93      0.88       412\n",
      "         8.0       0.95      0.83      0.89       427\n",
      "\n",
      "    accuracy                           0.95      3720\n",
      "   macro avg       0.95      0.95      0.95      3720\n",
      "weighted avg       0.95      0.95      0.95      3720\n",
      "\n"
     ]
    }
   ],
   "source": [
    "report = metrics.classification_report(y_test, predicted_classes)\n",
    "print(report)  "
   ]
  },
  {
   "cell_type": "code",
   "execution_count": 44,
   "id": "former-pepper",
   "metadata": {
    "execution": {
     "iopub.execute_input": "2021-04-18T13:56:12.629916Z",
     "iopub.status.busy": "2021-04-18T13:56:12.629382Z",
     "iopub.status.idle": "2021-04-18T13:56:12.666193Z",
     "shell.execute_reply": "2021-04-18T13:56:12.665726Z"
    },
    "papermill": {
     "duration": 1.032357,
     "end_time": "2021-04-18T13:56:12.666307",
     "exception": false,
     "start_time": "2021-04-18T13:56:11.633950",
     "status": "completed"
    },
    "tags": []
   },
   "outputs": [
    {
     "name": "stdout",
     "output_type": "stream",
     "text": [
      "Saved model to disk\n"
     ]
    }
   ],
   "source": [
    "# save model and architecture to single file\n",
    "model.save(\"Model_CNN_1_9_Classes.h5\")\n",
    "print(\"Saved model to disk\")"
   ]
  },
  {
   "cell_type": "code",
   "execution_count": null,
   "id": "opening-andrews",
   "metadata": {
    "papermill": {
     "duration": 0.990997,
     "end_time": "2021-04-18T13:56:14.652731",
     "exception": false,
     "start_time": "2021-04-18T13:56:13.661734",
     "status": "completed"
    },
    "tags": []
   },
   "outputs": [],
   "source": []
  }
 ],
 "metadata": {
  "kernelspec": {
   "display_name": "Python 3",
   "language": "python",
   "name": "python3"
  },
  "language_info": {
   "codemirror_mode": {
    "name": "ipython",
    "version": 3
   },
   "file_extension": ".py",
   "mimetype": "text/x-python",
   "name": "python",
   "nbconvert_exporter": "python",
   "pygments_lexer": "ipython3",
   "version": "3.7.9"
  },
  "papermill": {
   "default_parameters": {},
   "duration": 444.536658,
   "end_time": "2021-04-18T13:56:22.502052",
   "environment_variables": {},
   "exception": null,
   "input_path": "__notebook__.ipynb",
   "output_path": "__notebook__.ipynb",
   "parameters": {},
   "start_time": "2021-04-18T13:48:57.965394",
   "version": "2.3.2"
  }
 },
 "nbformat": 4,
 "nbformat_minor": 5
}
